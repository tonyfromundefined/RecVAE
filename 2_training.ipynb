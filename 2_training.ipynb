{
 "cells": [
  {
   "cell_type": "markdown",
   "metadata": {},
   "source": [
    "## Training"
   ]
  },
  {
   "cell_type": "code",
   "execution_count": 1,
   "metadata": {},
   "outputs": [],
   "source": [
    "import numpy as np\n",
    "from scipy import sparse\n",
    "import pandas as pd\n",
    "import os\n",
    "import bottleneck as bn"
   ]
  },
  {
   "cell_type": "code",
   "execution_count": 15,
   "metadata": {},
   "outputs": [],
   "source": [
    "### movielens-20m dataset이 있는 곳\n",
    "DATA_DIR = './dataset/small/'\n",
    "OUTPUT_DIR = os.path.join(DATA_DIR, 'output')\n",
    "# OUTPUT_MODEL_DIR = os.path.join(DATA_DIR, 'models/model.pt')"
   ]
  },
  {
   "cell_type": "markdown",
   "metadata": {},
   "source": [
    "## `load_train_data`\n",
    "\n",
    "csv 파일을 불러와서, Sparse matrix로 만든다"
   ]
  },
  {
   "cell_type": "code",
   "execution_count": 28,
   "metadata": {},
   "outputs": [],
   "source": [
    "def load_train_data(csv_file, n_items, n_users, global_indexing=False):\n",
    "    tp = pd.read_csv(csv_file)\n",
    "    \n",
    "    n_users = n_users if global_indexing else tp['uid'].max() + 1\n",
    "\n",
    "    rows, cols = tp['uid'], tp['sid']\n",
    "\n",
    "    data = sparse.csr_matrix(\n",
    "        (np.ones_like(rows), (rows, cols)),\n",
    "        dtype='float64',\n",
    "        shape=(n_users, n_items)\n",
    "    )\n",
    "    return data"
   ]
  },
  {
   "cell_type": "markdown",
   "metadata": {},
   "source": [
    "## `load_tr_te_data`\n",
    "\n",
    "csv 파일을 불러와서 uid의 offset을 맞춰준 뒤 Sparse matrix로 만든다."
   ]
  },
  {
   "cell_type": "code",
   "execution_count": 29,
   "metadata": {},
   "outputs": [],
   "source": [
    "def load_tr_te_data(csv_file_tr, csv_file_te, n_items, n_users, global_indexing=False):\n",
    "    tp_tr = pd.read_csv(csv_file_tr)\n",
    "    tp_te = pd.read_csv(csv_file_te)\n",
    "\n",
    "    if global_indexing:\n",
    "        start_idx = 0\n",
    "        end_idx = len(unique_uid) - 1\n",
    "    else:\n",
    "        start_idx = min(tp_tr['uid'].min(), tp_te['uid'].min())\n",
    "        end_idx = max(tp_tr['uid'].max(), tp_te['uid'].max())\n",
    "\n",
    "    rows_tr, cols_tr = tp_tr['uid'] - start_idx, tp_tr['sid']\n",
    "    rows_te, cols_te = tp_te['uid'] - start_idx, tp_te['sid']\n",
    "\n",
    "    data_tr = sparse.csr_matrix(\n",
    "        (np.ones_like(rows_tr), (rows_tr, cols_tr)),\n",
    "        dtype='float64',\n",
    "        shape=(end_idx - start_idx + 1, n_items)\n",
    "    )\n",
    "    data_te = sparse.csr_matrix(\n",
    "        (np.ones_like(rows_te), (rows_te, cols_te)),\n",
    "        dtype='float64',\n",
    "        shape=(end_idx - start_idx + 1, n_items)\n",
    "    )\n",
    "    return data_tr, data_te"
   ]
  },
  {
   "cell_type": "markdown",
   "metadata": {},
   "source": [
    "## `get_data`\n",
    "\n",
    "전체 데이터를 가져옵니다"
   ]
  },
  {
   "cell_type": "code",
   "execution_count": 30,
   "metadata": {},
   "outputs": [],
   "source": [
    "def get_data(global_indexing=False):\n",
    "    UNIQUE_SID_TXT_PATH = os.path.join(OUTPUT_DIR, 'unique_sid.txt')\n",
    "    UNIQUE_UID_TXT_PATH = os.path.join(OUTPUT_DIR, 'unique_uid.txt')\n",
    "    TRAIN_CSV_PATH = os.path.join(OUTPUT_DIR, 'train.csv')\n",
    "    VALIDATION_TR_CSV_PATH = os.path.join(OUTPUT_DIR, 'validation_tr.csv')\n",
    "    VALIDATION_TE_CSV_PATH = os.path.join(OUTPUT_DIR, 'validation_te.csv')\n",
    "    TEST_TR_CSV_PATH = os.path.join(OUTPUT_DIR, 'test_tr.csv')\n",
    "    TEST_TE_CSV_PATH = os.path.join(OUTPUT_DIR, 'test_te.csv')\n",
    "\n",
    "    unique_sid = list()\n",
    "    unique_uid = list()\n",
    "\n",
    "    with open(UNIQUE_SID_TXT_PATH, 'r') as f:\n",
    "        for line in f:\n",
    "            unique_sid.append(line.strip())\n",
    "\n",
    "    with open(UNIQUE_UID_TXT_PATH, 'r') as f:\n",
    "        for line in f:\n",
    "            unique_uid.append(line.strip())\n",
    "\n",
    "    n_items = len(unique_sid)\n",
    "    n_users = len(unique_uid)\n",
    "\n",
    "    train_data = load_train_data(\n",
    "        TRAIN_CSV_PATH,\n",
    "        n_items,\n",
    "        n_users,\n",
    "        global_indexing=global_indexing\n",
    "    )\n",
    "    vad_data_tr, vad_data_te = load_tr_te_data(\n",
    "        VALIDATION_TR_CSV_PATH,\n",
    "        VALIDATION_TE_CSV_PATH,\n",
    "        n_items,\n",
    "        n_users,\n",
    "        global_indexing=global_indexing\n",
    "    )\n",
    "    test_data_tr, test_data_te = load_tr_te_data(\n",
    "        TEST_TR_CSV_PATH,\n",
    "        TEST_TE_CSV_PATH,\n",
    "        n_items,\n",
    "        n_users, \n",
    "        global_indexing=global_indexing\n",
    "    )\n",
    "\n",
    "    return train_data, vad_data_tr, vad_data_te, test_data_tr, test_data_te"
   ]
  },
  {
   "cell_type": "code",
   "execution_count": 34,
   "metadata": {},
   "outputs": [
    {
     "output_type": "execute_result",
     "data": {
      "text/plain": "(<519x5934 sparse matrix of type '<class 'numpy.float64'>'\n \twith 40487 stored elements in Compressed Sparse Row format>,\n <42x5934 sparse matrix of type '<class 'numpy.float64'>'\n \twith 2969 stored elements in Compressed Sparse Row format>,\n <42x5934 sparse matrix of type '<class 'numpy.float64'>'\n \twith 720 stored elements in Compressed Sparse Row format>,\n <42x5934 sparse matrix of type '<class 'numpy.float64'>'\n \twith 3222 stored elements in Compressed Sparse Row format>,\n <42x5934 sparse matrix of type '<class 'numpy.float64'>'\n \twith 787 stored elements in Compressed Sparse Row format>)"
     },
     "metadata": {},
     "execution_count": 34
    }
   ],
   "source": [
    "get_data(global_indexing=False)"
   ]
  },
  {
   "cell_type": "markdown",
   "metadata": {},
   "source": [
    "## `NDCG_binary_at_k_batch`\n",
    "\n",
    "모르겠음. 뭔가 정확도 검증하는 함수일거같은데..."
   ]
  },
  {
   "cell_type": "code",
   "execution_count": 93,
   "metadata": {},
   "outputs": [],
   "source": [
    "def NDCG_binary_at_k_batch(X_pred, heldout_batch, k=100):\n",
    "    '''\n",
    "    normalized discounted cumulative gain@k for binary relevance\n",
    "    ASSUMPTIONS: all the 0's in heldout_data indicate 0 relevance\n",
    "    '''\n",
    "    batch_users = X_pred.shape[0]\n",
    "    idx_topk_part = bn.argpartition(-X_pred, k, axis=1)\n",
    "    topk_part = X_pred[np.arange(batch_users)[:, np.newaxis],\n",
    "                       idx_topk_part[:, :k]]\n",
    "    idx_part = np.argsort(-topk_part, axis=1)\n",
    "    # X_pred[np.arange(batch_users)[:, np.newaxis], idx_topk] is the sorted\n",
    "    # topk predicted score\n",
    "    idx_topk = idx_topk_part[np.arange(batch_users)[:, np.newaxis], idx_part]\n",
    "    # build the discount template\n",
    "    tp = 1. / np.log2(np.arange(2, k + 2))\n",
    "\n",
    "    DCG = (heldout_batch[np.arange(batch_users)[:, np.newaxis],\n",
    "                         idx_topk].toarray() * tp).sum(axis=1)\n",
    "    IDCG = np.array([(tp[:min(n, k)]).sum()\n",
    "                     for n in heldout_batch.getnnz(axis=1)])\n",
    "    return DCG / IDCG"
   ]
  },
  {
   "cell_type": "markdown",
   "metadata": {},
   "source": [
    "## `Recall_at_k_batch`\n",
    "\n",
    "모르겠음. 뭔가 정확도 검증하는 함수일거같은데..."
   ]
  },
  {
   "cell_type": "code",
   "execution_count": 94,
   "metadata": {},
   "outputs": [],
   "source": [
    "def Recall_at_k_batch(X_pred, heldout_batch, k=100):\n",
    "    batch_users = X_pred.shape[0]\n",
    "\n",
    "    idx = bn.argpartition(-X_pred, k, axis=1)\n",
    "    X_pred_binary = np.zeros_like(X_pred, dtype=bool)\n",
    "    X_pred_binary[np.arange(batch_users)[:, np.newaxis], idx[:, :k]] = True\n",
    "\n",
    "    X_true_binary = (heldout_batch > 0).toarray()\n",
    "    tmp = (np.logical_and(X_true_binary, X_pred_binary).sum(axis=1)).astype(\n",
    "        np.float32)\n",
    "    recall = tmp / np.minimum(k, X_true_binary.sum(axis=1))\n",
    "    return recall"
   ]
  },
  {
   "cell_type": "markdown",
   "metadata": {},
   "source": [
    "# 여기서부터 학습 시작"
   ]
  },
  {
   "cell_type": "code",
   "execution_count": 33,
   "metadata": {},
   "outputs": [],
   "source": [
    "import numpy as np\n",
    "from scipy import sparse\n",
    "import matplotlib.pyplot as plt\n",
    "%matplotlib inline\n",
    "\n",
    "import torch\n",
    "import torch.utils.data\n",
    "from torch import nn, optim\n",
    "from torch.nn import functional as F\n",
    "\n",
    "from tqdm import tqdm_notebook as tqdm\n",
    "import pickle\n",
    "import random\n",
    "from IPython.display import clear_output\n",
    "\n",
    "seed = 92819\n",
    "random.seed(seed)\n",
    "np.random.seed(seed)\n",
    "torch.manual_seed(seed)\n",
    "\n",
    "device = torch.device(\"cpu\")"
   ]
  },
  {
   "cell_type": "code",
   "execution_count": 58,
   "metadata": {},
   "outputs": [],
   "source": [
    "data = (m.astype('float32') for m in get_data(global_indexing=False))\n",
    "\n",
    "train_data, valid_1_data, valid_2_data, test_1_data, test_2_data = data\n",
    "n_users, n_items = train_data.shape"
   ]
  },
  {
   "cell_type": "code",
   "execution_count": 59,
   "metadata": {},
   "outputs": [],
   "source": [
    "import json\n",
    "import re\n",
    "import ipykernel\n",
    "import requests\n",
    "from requests.compat import urljoin\n",
    "from notebook.notebookapp import list_running_servers\n",
    "\n",
    "def get_notebook_name():\n",
    "    kernel_id = re.search('kernel-(.*).json', ipykernel.connect.get_connection_file()).group(1)\n",
    "    servers = list_running_servers()\n",
    "    for ss in servers:\n",
    "        response = requests.get(urljoin(ss['url'], 'api/sessions'), params={'token': ss.get('token', '')})\n",
    "        for nn in json.loads(response.text):\n",
    "            if nn['kernel']['id'] == kernel_id:\n",
    "                relative_path = nn['path']\n",
    "                return relative_path.split('/')[-1].split('.')[0]"
   ]
  },
  {
   "cell_type": "code",
   "execution_count": 60,
   "metadata": {},
   "outputs": [],
   "source": [
    "ser_model_fn = 'model_' + get_notebook_name().replace(' ', '_') + '.pt'"
   ]
  },
  {
   "cell_type": "markdown",
   "metadata": {},
   "source": [
    "## Swish Activation Function\n",
    "\n",
    "https://data-newbie.tistory.com/262"
   ]
  },
  {
   "cell_type": "code",
   "execution_count": 62,
   "metadata": {},
   "outputs": [],
   "source": [
    "def swish(x):\n",
    "    return x.mul(torch.sigmoid(x))\n",
    "\n",
    "def swish_(x):\n",
    "    return x.mul_(torch.sigmoid(x))"
   ]
  },
  {
   "cell_type": "markdown",
   "metadata": {},
   "source": [
    "## KL Divergence\n",
    "\n",
    "- entrophy: https://hyunw.kim/blog/2017/10/14/Entropy.html\n",
    "- cross-entrophy: https://hyunw.kim/blog/2017/10/26/Cross_Entropy.html\n",
    "- KL-divergence: https://hyunw.kim/blog/2017/10/27/KL_divergence.html"
   ]
  },
  {
   "cell_type": "code",
   "execution_count": 74,
   "metadata": {},
   "outputs": [],
   "source": [
    "def kl(q_distr, p_distr, weights, eps=1e-7):\n",
    "    mu_q, logvar_q = q_distr\n",
    "    mu_p, logvar_p = p_distr\n",
    "    return 0.5 * (((logvar_q.exp() + (mu_q - mu_p).pow(2)) / (logvar_p.exp() + eps) + logvar_p - logvar_q - 1).sum(dim=-1) * weights).mean()\n",
    "\n",
    "def simple_kl(mu_q, logvar_q, logvar_p_scale, norm):\n",
    "    return (-0.5 * ((1 + logvar_q - mu_q.pow(2)/logvar_p_scale - logvar_q.exp()/logvar_p_scale)).sum(dim=-1) * norm).mean()"
   ]
  },
  {
   "cell_type": "markdown",
   "metadata": {},
   "source": [
    "## `log_norm_pdf`\n",
    "\n",
    "log-normal probability density function"
   ]
  },
  {
   "cell_type": "code",
   "execution_count": 75,
   "metadata": {},
   "outputs": [],
   "source": [
    "def log_norm_pdf(x, mu, logvar):\n",
    "    return -0.5 * (logvar + np.log(2 * np.pi) + (x - mu).pow(2) / logvar.exp())\n",
    "\n",
    "def log_norm_std_pdf(x):\n",
    "    return -0.5 * (np.log(2 * np.pi) + x.pow(2))"
   ]
  },
  {
   "cell_type": "markdown",
   "metadata": {},
   "source": [
    "## `DeterministicDecoder`"
   ]
  },
  {
   "cell_type": "code",
   "execution_count": 69,
   "metadata": {},
   "outputs": [],
   "source": [
    "class DeterministicDecoder(nn.Linear):\n",
    "    def __init__(self, *args):\n",
    "        super(DeterministicDecoder, self).__init__(*args)\n",
    "\n",
    "    def forward(self, *args):\n",
    "        output = super(DeterministicDecoder, self).forward(*args)\n",
    "        return output, 0"
   ]
  },
  {
   "cell_type": "markdown",
   "metadata": {},
   "source": [
    "## `StochasticDecoder`"
   ]
  },
  {
   "cell_type": "code",
   "execution_count": 76,
   "metadata": {},
   "outputs": [],
   "source": [
    "class StochasticDecoder(nn.Linear):\n",
    "    def __init__(self, in_features, out_features, bias=True):\n",
    "        super(StochasticDecoder, self).__init__(in_features, out_features, bias)\n",
    "\n",
    "        self.in_features = in_features\n",
    "        self.out_features = out_features\n",
    "        self.logvar = nn.Parameter(torch.Tensor(out_features, in_features))\n",
    "        self.logvar.data.fill_(-2)\n",
    "\n",
    "    def forward(self, input):\n",
    "        if self.training:\n",
    "            std = torch.exp(self.logvar)\n",
    "            a = F.linear(input, self.weight, self.bias)\n",
    "            eps = torch.randn_like(a)\n",
    "            b = eps.mul_(torch.sqrt_(F.linear(input * input, std)))\n",
    "            output = a + b\n",
    "\n",
    "            kl = simple_kl(self.weight, self.logvar, 1, 1)\n",
    "            # kl = (-0.5 * (1 + self.logvar - self.weight.pow(2) - self.logvar.exp())).sum(dim=-1).mean()\n",
    "            return output, kl\n",
    "\n",
    "        else:\n",
    "            output = F.linear(input, self.weight, self.bias)\n",
    "            return output, 0"
   ]
  },
  {
   "cell_type": "markdown",
   "metadata": {},
   "source": [
    "## `GaussianMixturePrior`"
   ]
  },
  {
   "cell_type": "code",
   "execution_count": 71,
   "metadata": {},
   "outputs": [],
   "source": [
    "class GaussianMixturePrior(nn.Module):\n",
    "    def __init__(self, latent_dim, gaussians_number):\n",
    "        super(GaussianMixturePrior, self).__init__()\n",
    "        \n",
    "        self.gaussians_number = gaussians_number\n",
    "        \n",
    "        self.mu_prior = nn.Parameter(torch.Tensor(latent_dim, gaussians_number))\n",
    "        self.mu_prior.data.fill_(0)\n",
    "        \n",
    "        self.logvar_prior = nn.Parameter(torch.Tensor(latent_dim, gaussians_number))\n",
    "        self.logvar_prior.data.fill_(0)\n",
    "        \n",
    "    def forward(self, z):\n",
    "        density_per_gaussian = log_norm_pdf(\n",
    "            x=z[:, :, None],\n",
    "            mu=self.mu_prior[None, ...].detach(),\n",
    "            logvar=self.logvar_prior[None, ...].detach()\n",
    "        ).add(-np.log(self.gaussians_number))\n",
    "        \n",
    "        return torch.logsumexp(density_per_gaussian, dim=-1)"
   ]
  },
  {
   "cell_type": "markdown",
   "metadata": {},
   "source": [
    "## `GaussianMixturePriorWithAprPost`"
   ]
  },
  {
   "cell_type": "code",
   "execution_count": 72,
   "metadata": {},
   "outputs": [],
   "source": [
    "class GaussianMixturePriorWithAprPost(nn.Module):\n",
    "    def __init__(self, latent_dim, input_count):\n",
    "        super(GaussianMixturePriorWithAprPost, self).__init__()\n",
    "        \n",
    "        self.gaussians_number = 1\n",
    "\n",
    "        self.mu_prior = nn.Parameter(torch.Tensor(latent_dim, self.gaussians_number))\n",
    "        self.mu_prior.data.fill_(0)\n",
    "\n",
    "        self.logvar_prior = nn.Parameter(torch.Tensor(latent_dim, self.gaussians_number))\n",
    "        self.logvar_prior.data.fill_(0)\n",
    "\n",
    "        self.logvar_uniform_prior = nn.Parameter(torch.Tensor(\n",
    "            latent_dim,\n",
    "            self.gaussians_number\n",
    "        ))\n",
    "        self.logvar_uniform_prior.data.fill_(10)\n",
    "\n",
    "        self.user_mu = nn.Embedding(input_count, latent_dim)\n",
    "        self.user_logvar = nn.Embedding(input_count, latent_dim)\n",
    "\n",
    "    def forward(self, z, idx):\n",
    "        density_per_gaussian1 = log_norm_pdf(\n",
    "            x=z[:, :, None],\n",
    "            mu=self.mu_prior[None, :, :].detach(),\n",
    "            logvar=self.logvar_prior[None, :, :].detach()\n",
    "        ).add(np.log(1/5 - 1/20))\n",
    "\n",
    "        density_per_gaussian2 = log_norm_pdf(\n",
    "            x=z[:, :, None],\n",
    "            mu=self.user_mu(idx)[:, :, None].detach(),\n",
    "            logvar=self.user_logvar(idx)[:, :, None].detach()\n",
    "        ).add(np.log(4/5 - 1/20))\n",
    "\n",
    "        density_per_gaussian3 = log_norm_pdf(\n",
    "            x=z[:, :, None],\n",
    "            mu=self.mu_prior[None, :, :].detach(),\n",
    "            logvar=self.logvar_uniform_prior[None, :, :].detach()\n",
    "        ).add(np.log(1/10))\n",
    "\n",
    "        density_per_gaussian = torch.cat([\n",
    "            density_per_gaussian1,\n",
    "            density_per_gaussian2,\n",
    "            density_per_gaussian3\n",
    "        ], dim=-1)\n",
    "\n",
    "        return torch.logsumexp(density_per_gaussian, dim=-1)"
   ]
  },
  {
   "cell_type": "code",
   "execution_count": 80,
   "metadata": {},
   "outputs": [],
   "source": [
    "class VAE(nn.Module):\n",
    "    def __init__(self, hidden_dim, latent_dim, matrix_dim, axis):\n",
    "        super(VAE, self).__init__()\n",
    "\n",
    "        self.fc1 = nn.Linear(matrix_dim[1], hidden_dim)\n",
    "        self.ln1 = nn.LayerNorm(hidden_dim)\n",
    "        self.fc2 = nn.Linear(hidden_dim, hidden_dim)\n",
    "        self.ln2 = nn.LayerNorm(hidden_dim)\n",
    "        self.fc3 = nn.Linear(hidden_dim, hidden_dim)\n",
    "        self.ln3 = nn.LayerNorm(hidden_dim)\n",
    "        self.fc4 = nn.Linear(hidden_dim, hidden_dim)\n",
    "        self.ln4 = nn.LayerNorm(hidden_dim)\n",
    "        self.fc5 = nn.Linear(hidden_dim, hidden_dim)\n",
    "        self.ln5 = nn.LayerNorm(hidden_dim)\n",
    "        self.fc21 = nn.Linear(hidden_dim, latent_dim)\n",
    "        self.fc22 = nn.Linear(hidden_dim, latent_dim)\n",
    "\n",
    "        self.prior = GaussianMixturePriorWithAprPost(latent_dim, matrix_dim[0])\n",
    "        self.decoder = DeterministicDecoder(latent_dim, matrix_dim[1])        \n",
    "        self.axis = axis\n",
    "\n",
    "\n",
    "    def encode(self, x, dropout_rate):\n",
    "        norm = x.pow(2).sum(dim=-1).sqrt()\n",
    "        x = x / norm[:, None]\n",
    "    \n",
    "        x = F.dropout(x, p=dropout_rate, training=self.training)\n",
    "        \n",
    "        h1 = self.ln1(swish(self.fc1(x)))\n",
    "        h2 = self.ln2(swish(self.fc2(h1) + h1))\n",
    "        h3 = self.ln3(swish(self.fc3(h2) + h1 + h2))\n",
    "        h4 = self.ln4(swish(self.fc4(h3) + h1 + h2 + h3))\n",
    "        h5 = self.ln5(swish(self.fc5(h4) + h1 + h2 + h3 + h4))\n",
    "\n",
    "        return self.fc21(h5), self.fc22(h5)\n",
    "\n",
    "\n",
    "    def reparameterize(self, mu, logvar):\n",
    "        if self.training:\n",
    "            std = torch.exp(0.5*logvar)\n",
    "            eps = torch.randn_like(std)\n",
    "            return eps.mul(std).add_(mu)\n",
    "        else:\n",
    "            return mu\n",
    "\n",
    "\n",
    "    def decode(self, z):\n",
    "        return self.decoder(z)\n",
    "\n",
    "\n",
    "    def forward(\n",
    "        self,\n",
    "        user_ratings,\n",
    "        user_idx,\n",
    "        beta=1,\n",
    "        dropout_rate=0.5,\n",
    "        calculate_loss=True,\n",
    "        mode=None\n",
    "    ):\n",
    "        if mode == 'pr':\n",
    "            mu, logvar = self.encode(user_ratings, dropout_rate=dropout_rate)\n",
    "        elif mode == 'mf':\n",
    "            mu, logvar = self.encode(user_ratings, dropout_rate=0)\n",
    "            \n",
    "        z = self.reparameterize(mu, logvar)\n",
    "\n",
    "        x_pred, decoder_loss = self.decode(z)\n",
    "        \n",
    "        NLL = -(F.log_softmax(x_pred, dim=-1) * user_ratings).sum(dim=-1).mean()\n",
    "        \n",
    "        if calculate_loss:\n",
    "            if mode == 'pr':\n",
    "                norm = user_ratings.sum(dim=-1)\n",
    "                KLD = -(self.prior(z, user_idx) - log_norm_pdf(z, mu, logvar)).sum(dim=-1).mul(norm).mean()\n",
    "                loss = NLL + beta * KLD + decoder_loss\n",
    "\n",
    "            elif mode == 'mf':\n",
    "                KLD = NLL * 0\n",
    "                loss = NLL + decoder_loss\n",
    "            \n",
    "            return (NLL, KLD), loss\n",
    "            \n",
    "        else:\n",
    "            return x_pred\n",
    "\n",
    "    def set_embeddings(self, train_data, momentum=0, weight=None):\n",
    "        istraining = self.training\n",
    "        self.eval()\n",
    "\n",
    "        for batch in generate(\n",
    "            batch_size=500,\n",
    "            device=device,\n",
    "            data_1=train_data,\n",
    "            axis=self.axis\n",
    "        ):\n",
    "            user_ratings = batch.get_ratings_to_dev()\n",
    "            users_idx = batch.get_idx()\n",
    "\n",
    "            new_user_mu, new_user_logvar = self.encode(user_ratings, 0)\n",
    "\n",
    "            old_user_mu = self.prior.user_mu.weight.data[users_idx,:].detach()\n",
    "            old_user_logvar = self.prior.user_logvar.weight.data[users_idx,:].detach()\n",
    "\n",
    "            if weight:\n",
    "                old_user_var = torch.exp(old_user_logvar)\n",
    "                new_user_var = torch.exp(new_user_logvar)\n",
    "\n",
    "                post_user_var = 1 / (1 / old_user_var + weight / new_user_var)\n",
    "                post_user_mu = (old_user_mu / old_user_var + weight * new_user_mu / new_user_var) * post_user_var\n",
    "\n",
    "                self.prior.user_mu.weight.data[users_idx,:] = post_user_mu\n",
    "                self.prior.user_logvar.weight.data[users_idx,:] = torch.log(post_user_var + new_user_var)\n",
    "            else:\n",
    "                self.prior.user_mu.weight.data[users_idx,:] = momentum * old_user_mu + (1-momentum) * new_user_mu\n",
    "                self.prior.user_logvar.weight.data[users_idx,:] = momentum * old_user_logvar + (1-momentum) * new_user_logvar\n",
    "\n",
    "        if istraining:\n",
    "            self.train()\n",
    "        else:\n",
    "            self.eval()"
   ]
  },
  {
   "cell_type": "markdown",
   "metadata": {},
   "source": [
    "## `generate`\n",
    "\n",
    "`Batch` 함수를 generator로 이용할 수 있도록 wrapping."
   ]
  },
  {
   "cell_type": "code",
   "execution_count": 81,
   "metadata": {},
   "outputs": [],
   "source": [
    "def generate(\n",
    "    batch_size,\n",
    "    device,\n",
    "    axis,\n",
    "    data_1,\n",
    "    data_2=None,\n",
    "    shuffle=False,\n",
    "    samples_perc_per_epoch=1\n",
    "):\n",
    "    assert axis in ['users', 'items']\n",
    "    assert 0 < samples_perc_per_epoch <= 1\n",
    "    \n",
    "    if axis == 'items':\n",
    "        data_1 = data_1.T\n",
    "        if data_2 is not None:\n",
    "            data_2 = data_2.T\n",
    "    \n",
    "    total_samples = data_1.shape[0]\n",
    "    samples_per_epoch = int(total_samples * samples_perc_per_epoch)\n",
    "    \n",
    "    \n",
    "    if shuffle:\n",
    "        idxlist = np.arange(total_samples)\n",
    "        np.random.shuffle(idxlist)\n",
    "        idxlist = idxlist[:samples_per_epoch]\n",
    "    else:\n",
    "        idxlist = np.arange(samples_per_epoch)\n",
    "    \n",
    "    for st_idx in tqdm(range(0, samples_per_epoch, batch_size)):\n",
    "        end_idx = min(st_idx + batch_size, samples_per_epoch)\n",
    "        idx = idxlist[st_idx:end_idx]\n",
    "\n",
    "        yield Batch(device, idx, data_1, data_2)"
   ]
  },
  {
   "cell_type": "markdown",
   "metadata": {},
   "source": [
    "## `Batch`\n",
    "\n",
    "데이터를 쪼개서 각각의 환경으로 나눔."
   ]
  },
  {
   "cell_type": "code",
   "execution_count": 82,
   "metadata": {},
   "outputs": [],
   "source": [
    "class Batch:\n",
    "    def __init__(self, device, idx, data_1, data_2=None):\n",
    "        self._device = device\n",
    "        self._idx = idx\n",
    "        self._data_1 = data_1\n",
    "        self._data_2 = data_2\n",
    "    \n",
    "    def get_idx(self):\n",
    "        return self._idx\n",
    "    \n",
    "    def get_idx_to_dev(self):\n",
    "        return torch.LongTensor(self.get_idx()).to(self._device)\n",
    "\n",
    "    def get_ratings(self, is_test=False):\n",
    "        data = self._data_2 if is_test else self._data_1\n",
    "        return data[self._idx]\n",
    "    \n",
    "    def get_ratings_to_dev(self, is_test=False):\n",
    "        return torch.Tensor(self.get_ratings(is_test).toarray()).to(self._device)"
   ]
  },
  {
   "cell_type": "markdown",
   "metadata": {},
   "source": [
    "## `validate`\n",
    "\n",
    "NDCG? 로 검증하는 코드인듯"
   ]
  },
  {
   "cell_type": "code",
   "execution_count": 83,
   "metadata": {},
   "outputs": [],
   "source": [
    "def validate(model, data_1, data_2, axis, mode, samples_perc_per_epoch=1):\n",
    "    model.eval()\n",
    "    batch_size = 500\n",
    "    ndcg_dist = []\n",
    "    \n",
    "    \n",
    "    for batch in generate(\n",
    "        batch_size=batch_size,\n",
    "        device=device,\n",
    "        axis=axis,\n",
    "        data_1=data_1,\n",
    "        data_2=data_2,\n",
    "        samples_perc_per_epoch=samples_perc_per_epoch\n",
    "    ):\n",
    "        \n",
    "        ratings = batch.get_ratings_to_dev()\n",
    "        idx = batch.get_idx_to_dev()\n",
    "        ratings_test = batch.get_ratings(is_test=True)\n",
    "    \n",
    "        pred_val = model(ratings, idx, calculate_loss=False, mode=mode).cpu().detach().numpy()\n",
    "        \n",
    "        if not (data_1 is data_2):\n",
    "            pred_val[batch.get_ratings().nonzero()] = -np.inf\n",
    "        ndcg_dist.append(NDCG_binary_at_k_batch(pred_val, ratings_test))\n",
    "\n",
    "    ndcg_dist = np.concatenate(ndcg_dist)\n",
    "\n",
    "    return ndcg_dist[~np.isnan(ndcg_dist)].mean()"
   ]
  },
  {
   "cell_type": "code",
   "execution_count": 84,
   "metadata": {},
   "outputs": [],
   "source": [
    "def run(model, opts, train_data, batch_size, n_epochs, axis, beta, mode):\n",
    "    global best_ndcg\n",
    "    global ndcgs_tr_pr, ndcgs_tr_mf, ndcgs_va_pr, ndcgs_va_mf\n",
    "    \n",
    "    for epoch in range(n_epochs):\n",
    "        model.train()\n",
    "        NLL_loss = 0\n",
    "        KLD_loss = 0\n",
    "\n",
    "        for batch in generate(\n",
    "            batch_size=batch_size,\n",
    "            device=device,\n",
    "            axis=axis,\n",
    "            data_1=train_data,\n",
    "            shuffle=True\n",
    "        ):\n",
    "            ratings = batch.get_ratings_to_dev()\n",
    "            idx = batch.get_idx_to_dev()\n",
    "\n",
    "            for optimizer in opts:\n",
    "                optimizer.zero_grad()\n",
    "                \n",
    "            (NLL, KLD), loss = model(ratings, idx, beta=beta, mode=mode)\n",
    "            loss.backward()\n",
    "            \n",
    "            for optimizer in opts:\n",
    "                optimizer.step()\n",
    "            \n",
    "            NLL_loss += NLL.item()\n",
    "            KLD_loss += KLD.item()\n",
    "            \n",
    "\n",
    "        print('NLL_loss', NLL_loss, 'KLD_loss', KLD_loss)"
   ]
  },
  {
   "cell_type": "code",
   "execution_count": 90,
   "metadata": {},
   "outputs": [],
   "source": [
    "def get_opts(model, lr=5e-4):\n",
    "    decoder_params = set(model.decoder.parameters())\n",
    "    embedding_params = set(model.prior.user_mu.parameters()) | set(model.prior.user_logvar.parameters())\n",
    "    encoder_params = set(model.parameters()) - decoder_params - embedding_params\n",
    "\n",
    "    optimizer_encoder = optim.Adam(encoder_params, lr=lr)\n",
    "    optimizer_decoder = optim.Adam(decoder_params, lr=lr)\n",
    "    optimizer_embedding = optim.Adam(embedding_params, lr=lr)\n",
    "\n",
    "    print('encoder\\n', [x.shape for x in encoder_params])\n",
    "    print('embedding\\n', [x.shape for x in embedding_params])\n",
    "    print('decoder\\n', [x.shape for x in decoder_params])\n",
    "    \n",
    "    return optimizer_encoder, optimizer_decoder, optimizer_embedding"
   ]
  },
  {
   "cell_type": "code",
   "execution_count": 96,
   "metadata": {},
   "outputs": [
    {
     "output_type": "display_data",
     "data": {
      "text/plain": "HBox(children=(FloatProgress(value=0.0, max=2.0), HTML(value='')))",
      "application/vnd.jupyter.widget-view+json": {
       "version_major": 2,
       "version_minor": 0,
       "model_id": "3a551cd2e61d4f7db5e47a8cd2f811a3"
      }
     },
     "metadata": {}
    },
    {
     "output_type": "stream",
     "name": "stdout",
     "text": "\nVAE(\n  (fc1): Linear(in_features=5934, out_features=600, bias=True)\n  (ln1): LayerNorm((600,), eps=1e-05, elementwise_affine=True)\n  (fc2): Linear(in_features=600, out_features=600, bias=True)\n  (ln2): LayerNorm((600,), eps=1e-05, elementwise_affine=True)\n  (fc3): Linear(in_features=600, out_features=600, bias=True)\n  (ln3): LayerNorm((600,), eps=1e-05, elementwise_affine=True)\n  (fc4): Linear(in_features=600, out_features=600, bias=True)\n  (ln4): LayerNorm((600,), eps=1e-05, elementwise_affine=True)\n  (fc5): Linear(in_features=600, out_features=600, bias=True)\n  (ln5): LayerNorm((600,), eps=1e-05, elementwise_affine=True)\n  (fc21): Linear(in_features=600, out_features=200, bias=True)\n  (fc22): Linear(in_features=600, out_features=200, bias=True)\n  (prior): GaussianMixturePriorWithAprPost(\n    (user_mu): Embedding(519, 200)\n    (user_logvar): Embedding(519, 200)\n  )\n  (decoder): DeterministicDecoder(in_features=200, out_features=5934, bias=True)\n)\nencoder\n [torch.Size([200, 1]), torch.Size([600, 600]), torch.Size([600]), torch.Size([200, 600]), torch.Size([200]), torch.Size([600]), torch.Size([600]), torch.Size([600]), torch.Size([600]), torch.Size([600, 600]), torch.Size([200, 600]), torch.Size([600]), torch.Size([600]), torch.Size([600]), torch.Size([600]), torch.Size([600]), torch.Size([200, 1]), torch.Size([600, 5934]), torch.Size([600]), torch.Size([200]), torch.Size([600, 600]), torch.Size([600]), torch.Size([600]), torch.Size([600]), torch.Size([200, 1]), torch.Size([600, 600]), torch.Size([600])]\nembedding\n [torch.Size([519, 200]), torch.Size([519, 200])]\ndecoder\n [torch.Size([5934, 200]), torch.Size([5934])]\n"
    }
   ],
   "source": [
    "best_ndcg = -np.inf\n",
    "ndcgs_tr_pr, ndcgs_tr_mf, ndcgs_va_pr, ndcgs_va_mf = [], [], [], []\n",
    "var_param_distance = []\n",
    "\n",
    "hidden_dim = 600\n",
    "latent_dim = 200\n",
    "\n",
    "model_i = VAE(hidden_dim, latent_dim, (n_users, n_items), 'users').to(device)\n",
    "model_i.set_embeddings(train_data)\n",
    "\n",
    "print(model_i)\n",
    "\n",
    "optimizer_encoder_i, optimizer_decoder_i, _ = get_opts(model_i)"
   ]
  },
  {
   "cell_type": "code",
   "execution_count": 97,
   "metadata": {},
   "outputs": [
    {
     "output_type": "stream",
     "name": "stdout",
     "text": "ndcg 0.15793422046162656 : : : 0.14130113835754232\n"
    },
    {
     "output_type": "display_data",
     "data": {
      "text/plain": "<Figure size 1080x360 with 2 Axes>",
      "image/svg+xml": "<?xml version=\"1.0\" encoding=\"utf-8\" standalone=\"no\"?>\n<!DOCTYPE svg PUBLIC \"-//W3C//DTD SVG 1.1//EN\"\n  \"http://www.w3.org/Graphics/SVG/1.1/DTD/svg11.dtd\">\n<!-- Created with matplotlib (https://matplotlib.org/) -->\n<svg height=\"352.478125pt\" version=\"1.1\" viewBox=\"0 0 1086.609375 352.478125\" width=\"1086.609375pt\" xmlns=\"http://www.w3.org/2000/svg\" xmlns:xlink=\"http://www.w3.org/1999/xlink\">\n <defs>\n  <style type=\"text/css\">\n*{stroke-linecap:butt;stroke-linejoin:round;}\n  </style>\n </defs>\n <g id=\"figure_1\">\n  <g id=\"patch_1\">\n   <path d=\"M 0 352.478125 \nL 1086.609375 352.478125 \nL 1086.609375 0 \nL 0 0 \nz\n\" style=\"fill:none;\"/>\n  </g>\n  <g id=\"axes_1\">\n   <g id=\"patch_2\">\n    <path d=\"M 42.828125 328.6 \nL 1030.103125 328.6 \nL 1030.103125 7.2 \nL 42.828125 7.2 \nz\n\" style=\"fill:#ffffff;\"/>\n   </g>\n   <g id=\"matplotlib.axis_1\">\n    <g id=\"xtick_1\">\n     <g id=\"line2d_1\">\n      <path clip-path=\"url(#p235b256f22)\" d=\"M 87.704261 328.6 \nL 87.704261 7.2 \n\" style=\"fill:none;stroke:#b0b0b0;stroke-linecap:square;stroke-width:0.8;\"/>\n     </g>\n     <g id=\"line2d_2\">\n      <defs>\n       <path d=\"M 0 0 \nL 0 3.5 \n\" id=\"me0db840c06\" style=\"stroke:#000000;stroke-width:0.8;\"/>\n      </defs>\n      <g>\n       <use style=\"stroke:#000000;stroke-width:0.8;\" x=\"87.704261\" xlink:href=\"#me0db840c06\" y=\"328.6\"/>\n      </g>\n     </g>\n     <g id=\"text_1\">\n      <!-- 3.00 -->\n      <defs>\n       <path d=\"M 40.578125 39.3125 \nQ 47.65625 37.796875 51.625 33 \nQ 55.609375 28.21875 55.609375 21.1875 \nQ 55.609375 10.40625 48.1875 4.484375 \nQ 40.765625 -1.421875 27.09375 -1.421875 \nQ 22.515625 -1.421875 17.65625 -0.515625 \nQ 12.796875 0.390625 7.625 2.203125 \nL 7.625 11.71875 \nQ 11.71875 9.328125 16.59375 8.109375 \nQ 21.484375 6.890625 26.8125 6.890625 \nQ 36.078125 6.890625 40.9375 10.546875 \nQ 45.796875 14.203125 45.796875 21.1875 \nQ 45.796875 27.640625 41.28125 31.265625 \nQ 36.765625 34.90625 28.71875 34.90625 \nL 20.21875 34.90625 \nL 20.21875 43.015625 \nL 29.109375 43.015625 \nQ 36.375 43.015625 40.234375 45.921875 \nQ 44.09375 48.828125 44.09375 54.296875 \nQ 44.09375 59.90625 40.109375 62.90625 \nQ 36.140625 65.921875 28.71875 65.921875 \nQ 24.65625 65.921875 20.015625 65.03125 \nQ 15.375 64.15625 9.8125 62.3125 \nL 9.8125 71.09375 \nQ 15.4375 72.65625 20.34375 73.4375 \nQ 25.25 74.21875 29.59375 74.21875 \nQ 40.828125 74.21875 47.359375 69.109375 \nQ 53.90625 64.015625 53.90625 55.328125 \nQ 53.90625 49.265625 50.4375 45.09375 \nQ 46.96875 40.921875 40.578125 39.3125 \nz\n\" id=\"DejaVuSans-51\"/>\n       <path d=\"M 10.6875 12.40625 \nL 21 12.40625 \nL 21 0 \nL 10.6875 0 \nz\n\" id=\"DejaVuSans-46\"/>\n       <path d=\"M 31.78125 66.40625 \nQ 24.171875 66.40625 20.328125 58.90625 \nQ 16.5 51.421875 16.5 36.375 \nQ 16.5 21.390625 20.328125 13.890625 \nQ 24.171875 6.390625 31.78125 6.390625 \nQ 39.453125 6.390625 43.28125 13.890625 \nQ 47.125 21.390625 47.125 36.375 \nQ 47.125 51.421875 43.28125 58.90625 \nQ 39.453125 66.40625 31.78125 66.40625 \nz\nM 31.78125 74.21875 \nQ 44.046875 74.21875 50.515625 64.515625 \nQ 56.984375 54.828125 56.984375 36.375 \nQ 56.984375 17.96875 50.515625 8.265625 \nQ 44.046875 -1.421875 31.78125 -1.421875 \nQ 19.53125 -1.421875 13.0625 8.265625 \nQ 6.59375 17.96875 6.59375 36.375 \nQ 6.59375 54.828125 13.0625 64.515625 \nQ 19.53125 74.21875 31.78125 74.21875 \nz\n\" id=\"DejaVuSans-48\"/>\n      </defs>\n      <g transform=\"translate(76.571449 343.198438)scale(0.1 -0.1)\">\n       <use xlink:href=\"#DejaVuSans-51\"/>\n       <use x=\"63.623047\" xlink:href=\"#DejaVuSans-46\"/>\n       <use x=\"95.410156\" xlink:href=\"#DejaVuSans-48\"/>\n       <use x=\"159.033203\" xlink:href=\"#DejaVuSans-48\"/>\n      </g>\n     </g>\n    </g>\n    <g id=\"xtick_2\">\n     <g id=\"line2d_3\">\n      <path clip-path=\"url(#p235b256f22)\" d=\"M 199.894602 328.6 \nL 199.894602 7.2 \n\" style=\"fill:none;stroke:#b0b0b0;stroke-linecap:square;stroke-width:0.8;\"/>\n     </g>\n     <g id=\"line2d_4\">\n      <g>\n       <use style=\"stroke:#000000;stroke-width:0.8;\" x=\"199.894602\" xlink:href=\"#me0db840c06\" y=\"328.6\"/>\n      </g>\n     </g>\n     <g id=\"text_2\">\n      <!-- 3.25 -->\n      <defs>\n       <path d=\"M 19.1875 8.296875 \nL 53.609375 8.296875 \nL 53.609375 0 \nL 7.328125 0 \nL 7.328125 8.296875 \nQ 12.9375 14.109375 22.625 23.890625 \nQ 32.328125 33.6875 34.8125 36.53125 \nQ 39.546875 41.84375 41.421875 45.53125 \nQ 43.3125 49.21875 43.3125 52.78125 \nQ 43.3125 58.59375 39.234375 62.25 \nQ 35.15625 65.921875 28.609375 65.921875 \nQ 23.96875 65.921875 18.8125 64.3125 \nQ 13.671875 62.703125 7.8125 59.421875 \nL 7.8125 69.390625 \nQ 13.765625 71.78125 18.9375 73 \nQ 24.125 74.21875 28.421875 74.21875 \nQ 39.75 74.21875 46.484375 68.546875 \nQ 53.21875 62.890625 53.21875 53.421875 \nQ 53.21875 48.921875 51.53125 44.890625 \nQ 49.859375 40.875 45.40625 35.40625 \nQ 44.1875 33.984375 37.640625 27.21875 \nQ 31.109375 20.453125 19.1875 8.296875 \nz\n\" id=\"DejaVuSans-50\"/>\n       <path d=\"M 10.796875 72.90625 \nL 49.515625 72.90625 \nL 49.515625 64.59375 \nL 19.828125 64.59375 \nL 19.828125 46.734375 \nQ 21.96875 47.46875 24.109375 47.828125 \nQ 26.265625 48.1875 28.421875 48.1875 \nQ 40.625 48.1875 47.75 41.5 \nQ 54.890625 34.8125 54.890625 23.390625 \nQ 54.890625 11.625 47.5625 5.09375 \nQ 40.234375 -1.421875 26.90625 -1.421875 \nQ 22.3125 -1.421875 17.546875 -0.640625 \nQ 12.796875 0.140625 7.71875 1.703125 \nL 7.71875 11.625 \nQ 12.109375 9.234375 16.796875 8.0625 \nQ 21.484375 6.890625 26.703125 6.890625 \nQ 35.15625 6.890625 40.078125 11.328125 \nQ 45.015625 15.765625 45.015625 23.390625 \nQ 45.015625 31 40.078125 35.4375 \nQ 35.15625 39.890625 26.703125 39.890625 \nQ 22.75 39.890625 18.8125 39.015625 \nQ 14.890625 38.140625 10.796875 36.28125 \nz\n\" id=\"DejaVuSans-53\"/>\n      </defs>\n      <g transform=\"translate(188.76179 343.198438)scale(0.1 -0.1)\">\n       <use xlink:href=\"#DejaVuSans-51\"/>\n       <use x=\"63.623047\" xlink:href=\"#DejaVuSans-46\"/>\n       <use x=\"95.410156\" xlink:href=\"#DejaVuSans-50\"/>\n       <use x=\"159.033203\" xlink:href=\"#DejaVuSans-53\"/>\n      </g>\n     </g>\n    </g>\n    <g id=\"xtick_3\">\n     <g id=\"line2d_5\">\n      <path clip-path=\"url(#p235b256f22)\" d=\"M 312.084943 328.6 \nL 312.084943 7.2 \n\" style=\"fill:none;stroke:#b0b0b0;stroke-linecap:square;stroke-width:0.8;\"/>\n     </g>\n     <g id=\"line2d_6\">\n      <g>\n       <use style=\"stroke:#000000;stroke-width:0.8;\" x=\"312.084943\" xlink:href=\"#me0db840c06\" y=\"328.6\"/>\n      </g>\n     </g>\n     <g id=\"text_3\">\n      <!-- 3.50 -->\n      <g transform=\"translate(300.952131 343.198438)scale(0.1 -0.1)\">\n       <use xlink:href=\"#DejaVuSans-51\"/>\n       <use x=\"63.623047\" xlink:href=\"#DejaVuSans-46\"/>\n       <use x=\"95.410156\" xlink:href=\"#DejaVuSans-53\"/>\n       <use x=\"159.033203\" xlink:href=\"#DejaVuSans-48\"/>\n      </g>\n     </g>\n    </g>\n    <g id=\"xtick_4\">\n     <g id=\"line2d_7\">\n      <path clip-path=\"url(#p235b256f22)\" d=\"M 424.275284 328.6 \nL 424.275284 7.2 \n\" style=\"fill:none;stroke:#b0b0b0;stroke-linecap:square;stroke-width:0.8;\"/>\n     </g>\n     <g id=\"line2d_8\">\n      <g>\n       <use style=\"stroke:#000000;stroke-width:0.8;\" x=\"424.275284\" xlink:href=\"#me0db840c06\" y=\"328.6\"/>\n      </g>\n     </g>\n     <g id=\"text_4\">\n      <!-- 3.75 -->\n      <defs>\n       <path d=\"M 8.203125 72.90625 \nL 55.078125 72.90625 \nL 55.078125 68.703125 \nL 28.609375 0 \nL 18.3125 0 \nL 43.21875 64.59375 \nL 8.203125 64.59375 \nz\n\" id=\"DejaVuSans-55\"/>\n      </defs>\n      <g transform=\"translate(413.142472 343.198438)scale(0.1 -0.1)\">\n       <use xlink:href=\"#DejaVuSans-51\"/>\n       <use x=\"63.623047\" xlink:href=\"#DejaVuSans-46\"/>\n       <use x=\"95.410156\" xlink:href=\"#DejaVuSans-55\"/>\n       <use x=\"159.033203\" xlink:href=\"#DejaVuSans-53\"/>\n      </g>\n     </g>\n    </g>\n    <g id=\"xtick_5\">\n     <g id=\"line2d_9\">\n      <path clip-path=\"url(#p235b256f22)\" d=\"M 536.465625 328.6 \nL 536.465625 7.2 \n\" style=\"fill:none;stroke:#b0b0b0;stroke-linecap:square;stroke-width:0.8;\"/>\n     </g>\n     <g id=\"line2d_10\">\n      <g>\n       <use style=\"stroke:#000000;stroke-width:0.8;\" x=\"536.465625\" xlink:href=\"#me0db840c06\" y=\"328.6\"/>\n      </g>\n     </g>\n     <g id=\"text_5\">\n      <!-- 4.00 -->\n      <defs>\n       <path d=\"M 37.796875 64.3125 \nL 12.890625 25.390625 \nL 37.796875 25.390625 \nz\nM 35.203125 72.90625 \nL 47.609375 72.90625 \nL 47.609375 25.390625 \nL 58.015625 25.390625 \nL 58.015625 17.1875 \nL 47.609375 17.1875 \nL 47.609375 0 \nL 37.796875 0 \nL 37.796875 17.1875 \nL 4.890625 17.1875 \nL 4.890625 26.703125 \nz\n\" id=\"DejaVuSans-52\"/>\n      </defs>\n      <g transform=\"translate(525.332813 343.198438)scale(0.1 -0.1)\">\n       <use xlink:href=\"#DejaVuSans-52\"/>\n       <use x=\"63.623047\" xlink:href=\"#DejaVuSans-46\"/>\n       <use x=\"95.410156\" xlink:href=\"#DejaVuSans-48\"/>\n       <use x=\"159.033203\" xlink:href=\"#DejaVuSans-48\"/>\n      </g>\n     </g>\n    </g>\n    <g id=\"xtick_6\">\n     <g id=\"line2d_11\">\n      <path clip-path=\"url(#p235b256f22)\" d=\"M 648.655966 328.6 \nL 648.655966 7.2 \n\" style=\"fill:none;stroke:#b0b0b0;stroke-linecap:square;stroke-width:0.8;\"/>\n     </g>\n     <g id=\"line2d_12\">\n      <g>\n       <use style=\"stroke:#000000;stroke-width:0.8;\" x=\"648.655966\" xlink:href=\"#me0db840c06\" y=\"328.6\"/>\n      </g>\n     </g>\n     <g id=\"text_6\">\n      <!-- 4.25 -->\n      <g transform=\"translate(637.523153 343.198438)scale(0.1 -0.1)\">\n       <use xlink:href=\"#DejaVuSans-52\"/>\n       <use x=\"63.623047\" xlink:href=\"#DejaVuSans-46\"/>\n       <use x=\"95.410156\" xlink:href=\"#DejaVuSans-50\"/>\n       <use x=\"159.033203\" xlink:href=\"#DejaVuSans-53\"/>\n      </g>\n     </g>\n    </g>\n    <g id=\"xtick_7\">\n     <g id=\"line2d_13\">\n      <path clip-path=\"url(#p235b256f22)\" d=\"M 760.846307 328.6 \nL 760.846307 7.2 \n\" style=\"fill:none;stroke:#b0b0b0;stroke-linecap:square;stroke-width:0.8;\"/>\n     </g>\n     <g id=\"line2d_14\">\n      <g>\n       <use style=\"stroke:#000000;stroke-width:0.8;\" x=\"760.846307\" xlink:href=\"#me0db840c06\" y=\"328.6\"/>\n      </g>\n     </g>\n     <g id=\"text_7\">\n      <!-- 4.50 -->\n      <g transform=\"translate(749.713494 343.198438)scale(0.1 -0.1)\">\n       <use xlink:href=\"#DejaVuSans-52\"/>\n       <use x=\"63.623047\" xlink:href=\"#DejaVuSans-46\"/>\n       <use x=\"95.410156\" xlink:href=\"#DejaVuSans-53\"/>\n       <use x=\"159.033203\" xlink:href=\"#DejaVuSans-48\"/>\n      </g>\n     </g>\n    </g>\n    <g id=\"xtick_8\">\n     <g id=\"line2d_15\">\n      <path clip-path=\"url(#p235b256f22)\" d=\"M 873.036648 328.6 \nL 873.036648 7.2 \n\" style=\"fill:none;stroke:#b0b0b0;stroke-linecap:square;stroke-width:0.8;\"/>\n     </g>\n     <g id=\"line2d_16\">\n      <g>\n       <use style=\"stroke:#000000;stroke-width:0.8;\" x=\"873.036648\" xlink:href=\"#me0db840c06\" y=\"328.6\"/>\n      </g>\n     </g>\n     <g id=\"text_8\">\n      <!-- 4.75 -->\n      <g transform=\"translate(861.903835 343.198438)scale(0.1 -0.1)\">\n       <use xlink:href=\"#DejaVuSans-52\"/>\n       <use x=\"63.623047\" xlink:href=\"#DejaVuSans-46\"/>\n       <use x=\"95.410156\" xlink:href=\"#DejaVuSans-55\"/>\n       <use x=\"159.033203\" xlink:href=\"#DejaVuSans-53\"/>\n      </g>\n     </g>\n    </g>\n    <g id=\"xtick_9\">\n     <g id=\"line2d_17\">\n      <path clip-path=\"url(#p235b256f22)\" d=\"M 985.226989 328.6 \nL 985.226989 7.2 \n\" style=\"fill:none;stroke:#b0b0b0;stroke-linecap:square;stroke-width:0.8;\"/>\n     </g>\n     <g id=\"line2d_18\">\n      <g>\n       <use style=\"stroke:#000000;stroke-width:0.8;\" x=\"985.226989\" xlink:href=\"#me0db840c06\" y=\"328.6\"/>\n      </g>\n     </g>\n     <g id=\"text_9\">\n      <!-- 5.00 -->\n      <g transform=\"translate(974.094176 343.198438)scale(0.1 -0.1)\">\n       <use xlink:href=\"#DejaVuSans-53\"/>\n       <use x=\"63.623047\" xlink:href=\"#DejaVuSans-46\"/>\n       <use x=\"95.410156\" xlink:href=\"#DejaVuSans-48\"/>\n       <use x=\"159.033203\" xlink:href=\"#DejaVuSans-48\"/>\n      </g>\n     </g>\n    </g>\n   </g>\n   <g id=\"matplotlib.axis_2\">\n    <g id=\"ytick_1\">\n     <g id=\"line2d_19\">\n      <path clip-path=\"url(#p235b256f22)\" d=\"M 42.828125 283.141482 \nL 1030.103125 283.141482 \n\" style=\"fill:none;stroke:#b0b0b0;stroke-linecap:square;stroke-width:0.8;\"/>\n     </g>\n     <g id=\"line2d_20\">\n      <defs>\n       <path d=\"M 0 0 \nL -3.5 0 \n\" id=\"mf59edf0aab\" style=\"stroke:#000000;stroke-width:0.8;\"/>\n      </defs>\n      <g>\n       <use style=\"stroke:#000000;stroke-width:0.8;\" x=\"42.828125\" xlink:href=\"#mf59edf0aab\" y=\"283.141482\"/>\n      </g>\n     </g>\n     <g id=\"text_10\">\n      <!-- 0.130 -->\n      <defs>\n       <path d=\"M 12.40625 8.296875 \nL 28.515625 8.296875 \nL 28.515625 63.921875 \nL 10.984375 60.40625 \nL 10.984375 69.390625 \nL 28.421875 72.90625 \nL 38.28125 72.90625 \nL 38.28125 8.296875 \nL 54.390625 8.296875 \nL 54.390625 0 \nL 12.40625 0 \nz\n\" id=\"DejaVuSans-49\"/>\n      </defs>\n      <g transform=\"translate(7.2 286.940701)scale(0.1 -0.1)\">\n       <use xlink:href=\"#DejaVuSans-48\"/>\n       <use x=\"63.623047\" xlink:href=\"#DejaVuSans-46\"/>\n       <use x=\"95.410156\" xlink:href=\"#DejaVuSans-49\"/>\n       <use x=\"159.033203\" xlink:href=\"#DejaVuSans-51\"/>\n       <use x=\"222.65625\" xlink:href=\"#DejaVuSans-48\"/>\n      </g>\n     </g>\n    </g>\n    <g id=\"ytick_2\">\n     <g id=\"line2d_21\">\n      <path clip-path=\"url(#p235b256f22)\" d=\"M 42.828125 236.365094 \nL 1030.103125 236.365094 \n\" style=\"fill:none;stroke:#b0b0b0;stroke-linecap:square;stroke-width:0.8;\"/>\n     </g>\n     <g id=\"line2d_22\">\n      <g>\n       <use style=\"stroke:#000000;stroke-width:0.8;\" x=\"42.828125\" xlink:href=\"#mf59edf0aab\" y=\"236.365094\"/>\n      </g>\n     </g>\n     <g id=\"text_11\">\n      <!-- 0.135 -->\n      <g transform=\"translate(7.2 240.164312)scale(0.1 -0.1)\">\n       <use xlink:href=\"#DejaVuSans-48\"/>\n       <use x=\"63.623047\" xlink:href=\"#DejaVuSans-46\"/>\n       <use x=\"95.410156\" xlink:href=\"#DejaVuSans-49\"/>\n       <use x=\"159.033203\" xlink:href=\"#DejaVuSans-51\"/>\n       <use x=\"222.65625\" xlink:href=\"#DejaVuSans-53\"/>\n      </g>\n     </g>\n    </g>\n    <g id=\"ytick_3\">\n     <g id=\"line2d_23\">\n      <path clip-path=\"url(#p235b256f22)\" d=\"M 42.828125 189.588705 \nL 1030.103125 189.588705 \n\" style=\"fill:none;stroke:#b0b0b0;stroke-linecap:square;stroke-width:0.8;\"/>\n     </g>\n     <g id=\"line2d_24\">\n      <g>\n       <use style=\"stroke:#000000;stroke-width:0.8;\" x=\"42.828125\" xlink:href=\"#mf59edf0aab\" y=\"189.588705\"/>\n      </g>\n     </g>\n     <g id=\"text_12\">\n      <!-- 0.140 -->\n      <g transform=\"translate(7.2 193.387923)scale(0.1 -0.1)\">\n       <use xlink:href=\"#DejaVuSans-48\"/>\n       <use x=\"63.623047\" xlink:href=\"#DejaVuSans-46\"/>\n       <use x=\"95.410156\" xlink:href=\"#DejaVuSans-49\"/>\n       <use x=\"159.033203\" xlink:href=\"#DejaVuSans-52\"/>\n       <use x=\"222.65625\" xlink:href=\"#DejaVuSans-48\"/>\n      </g>\n     </g>\n    </g>\n    <g id=\"ytick_4\">\n     <g id=\"line2d_25\">\n      <path clip-path=\"url(#p235b256f22)\" d=\"M 42.828125 142.812316 \nL 1030.103125 142.812316 \n\" style=\"fill:none;stroke:#b0b0b0;stroke-linecap:square;stroke-width:0.8;\"/>\n     </g>\n     <g id=\"line2d_26\">\n      <g>\n       <use style=\"stroke:#000000;stroke-width:0.8;\" x=\"42.828125\" xlink:href=\"#mf59edf0aab\" y=\"142.812316\"/>\n      </g>\n     </g>\n     <g id=\"text_13\">\n      <!-- 0.145 -->\n      <g transform=\"translate(7.2 146.611535)scale(0.1 -0.1)\">\n       <use xlink:href=\"#DejaVuSans-48\"/>\n       <use x=\"63.623047\" xlink:href=\"#DejaVuSans-46\"/>\n       <use x=\"95.410156\" xlink:href=\"#DejaVuSans-49\"/>\n       <use x=\"159.033203\" xlink:href=\"#DejaVuSans-52\"/>\n       <use x=\"222.65625\" xlink:href=\"#DejaVuSans-53\"/>\n      </g>\n     </g>\n    </g>\n    <g id=\"ytick_5\">\n     <g id=\"line2d_27\">\n      <path clip-path=\"url(#p235b256f22)\" d=\"M 42.828125 96.035927 \nL 1030.103125 96.035927 \n\" style=\"fill:none;stroke:#b0b0b0;stroke-linecap:square;stroke-width:0.8;\"/>\n     </g>\n     <g id=\"line2d_28\">\n      <g>\n       <use style=\"stroke:#000000;stroke-width:0.8;\" x=\"42.828125\" xlink:href=\"#mf59edf0aab\" y=\"96.035927\"/>\n      </g>\n     </g>\n     <g id=\"text_14\">\n      <!-- 0.150 -->\n      <g transform=\"translate(7.2 99.835146)scale(0.1 -0.1)\">\n       <use xlink:href=\"#DejaVuSans-48\"/>\n       <use x=\"63.623047\" xlink:href=\"#DejaVuSans-46\"/>\n       <use x=\"95.410156\" xlink:href=\"#DejaVuSans-49\"/>\n       <use x=\"159.033203\" xlink:href=\"#DejaVuSans-53\"/>\n       <use x=\"222.65625\" xlink:href=\"#DejaVuSans-48\"/>\n      </g>\n     </g>\n    </g>\n    <g id=\"ytick_6\">\n     <g id=\"line2d_29\">\n      <path clip-path=\"url(#p235b256f22)\" d=\"M 42.828125 49.259538 \nL 1030.103125 49.259538 \n\" style=\"fill:none;stroke:#b0b0b0;stroke-linecap:square;stroke-width:0.8;\"/>\n     </g>\n     <g id=\"line2d_30\">\n      <g>\n       <use style=\"stroke:#000000;stroke-width:0.8;\" x=\"42.828125\" xlink:href=\"#mf59edf0aab\" y=\"49.259538\"/>\n      </g>\n     </g>\n     <g id=\"text_15\">\n      <!-- 0.155 -->\n      <g transform=\"translate(7.2 53.058757)scale(0.1 -0.1)\">\n       <use xlink:href=\"#DejaVuSans-48\"/>\n       <use x=\"63.623047\" xlink:href=\"#DejaVuSans-46\"/>\n       <use x=\"95.410156\" xlink:href=\"#DejaVuSans-49\"/>\n       <use x=\"159.033203\" xlink:href=\"#DejaVuSans-53\"/>\n       <use x=\"222.65625\" xlink:href=\"#DejaVuSans-53\"/>\n      </g>\n     </g>\n    </g>\n   </g>\n   <g id=\"line2d_31\">\n    <path clip-path=\"url(#p235b256f22)\" d=\"M 87.704261 313.990909 \nL 536.465625 177.416194 \nL 985.226989 21.809091 \n\" style=\"fill:none;stroke:#1f77b4;stroke-linecap:square;stroke-width:1.5;\"/>\n    <defs>\n     <path d=\"M -3 0 \nL 3 0 \nM 0 3 \nL 0 -3 \n\" id=\"m7caa1a92db\" style=\"stroke:#1f77b4;\"/>\n    </defs>\n    <g clip-path=\"url(#p235b256f22)\">\n     <use style=\"fill:#1f77b4;stroke:#1f77b4;\" x=\"87.704261\" xlink:href=\"#m7caa1a92db\" y=\"313.990909\"/>\n     <use style=\"fill:#1f77b4;stroke:#1f77b4;\" x=\"536.465625\" xlink:href=\"#m7caa1a92db\" y=\"177.416194\"/>\n     <use style=\"fill:#1f77b4;stroke:#1f77b4;\" x=\"985.226989\" xlink:href=\"#m7caa1a92db\" y=\"21.809091\"/>\n    </g>\n   </g>\n   <g id=\"patch_3\">\n    <path d=\"M 42.828125 328.6 \nL 42.828125 7.2 \n\" style=\"fill:none;stroke:#000000;stroke-linecap:square;stroke-linejoin:miter;stroke-width:0.8;\"/>\n   </g>\n   <g id=\"patch_4\">\n    <path d=\"M 1030.103125 328.6 \nL 1030.103125 7.2 \n\" style=\"fill:none;stroke:#000000;stroke-linecap:square;stroke-linejoin:miter;stroke-width:0.8;\"/>\n   </g>\n   <g id=\"patch_5\">\n    <path d=\"M 42.828125 328.6 \nL 1030.103125 328.6 \n\" style=\"fill:none;stroke:#000000;stroke-linecap:square;stroke-linejoin:miter;stroke-width:0.8;\"/>\n   </g>\n   <g id=\"patch_6\">\n    <path d=\"M 42.828125 7.2 \nL 1030.103125 7.2 \n\" style=\"fill:none;stroke:#000000;stroke-linecap:square;stroke-linejoin:miter;stroke-width:0.8;\"/>\n   </g>\n   <g id=\"legend_1\">\n    <g id=\"patch_7\">\n     <path d=\"M 953.514062 323.6 \nL 1023.103125 323.6 \nQ 1025.103125 323.6 1025.103125 321.6 \nL 1025.103125 307.921875 \nQ 1025.103125 305.921875 1023.103125 305.921875 \nL 953.514062 305.921875 \nQ 951.514062 305.921875 951.514062 307.921875 \nL 951.514062 321.6 \nQ 951.514062 323.6 953.514062 323.6 \nz\n\" style=\"fill:#ffffff;opacity:0.8;stroke:#cccccc;stroke-linejoin:miter;\"/>\n    </g>\n    <g id=\"line2d_32\">\n     <path d=\"M 955.514062 314.020313 \nL 975.514062 314.020313 \n\" style=\"fill:none;stroke:#1f77b4;stroke-linecap:square;stroke-width:1.5;\"/>\n    </g>\n    <g id=\"line2d_33\">\n     <g>\n      <use style=\"fill:#1f77b4;stroke:#1f77b4;\" x=\"965.514062\" xlink:href=\"#m7caa1a92db\" y=\"314.020313\"/>\n     </g>\n    </g>\n    <g id=\"text_16\">\n     <!-- pr valid -->\n     <defs>\n      <path d=\"M 18.109375 8.203125 \nL 18.109375 -20.796875 \nL 9.078125 -20.796875 \nL 9.078125 54.6875 \nL 18.109375 54.6875 \nL 18.109375 46.390625 \nQ 20.953125 51.265625 25.265625 53.625 \nQ 29.59375 56 35.59375 56 \nQ 45.5625 56 51.78125 48.09375 \nQ 58.015625 40.1875 58.015625 27.296875 \nQ 58.015625 14.40625 51.78125 6.484375 \nQ 45.5625 -1.421875 35.59375 -1.421875 \nQ 29.59375 -1.421875 25.265625 0.953125 \nQ 20.953125 3.328125 18.109375 8.203125 \nz\nM 48.6875 27.296875 \nQ 48.6875 37.203125 44.609375 42.84375 \nQ 40.53125 48.484375 33.40625 48.484375 \nQ 26.265625 48.484375 22.1875 42.84375 \nQ 18.109375 37.203125 18.109375 27.296875 \nQ 18.109375 17.390625 22.1875 11.75 \nQ 26.265625 6.109375 33.40625 6.109375 \nQ 40.53125 6.109375 44.609375 11.75 \nQ 48.6875 17.390625 48.6875 27.296875 \nz\n\" id=\"DejaVuSans-112\"/>\n      <path d=\"M 41.109375 46.296875 \nQ 39.59375 47.171875 37.8125 47.578125 \nQ 36.03125 48 33.890625 48 \nQ 26.265625 48 22.1875 43.046875 \nQ 18.109375 38.09375 18.109375 28.8125 \nL 18.109375 0 \nL 9.078125 0 \nL 9.078125 54.6875 \nL 18.109375 54.6875 \nL 18.109375 46.1875 \nQ 20.953125 51.171875 25.484375 53.578125 \nQ 30.03125 56 36.53125 56 \nQ 37.453125 56 38.578125 55.875 \nQ 39.703125 55.765625 41.0625 55.515625 \nz\n\" id=\"DejaVuSans-114\"/>\n      <path id=\"DejaVuSans-32\"/>\n      <path d=\"M 2.984375 54.6875 \nL 12.5 54.6875 \nL 29.59375 8.796875 \nL 46.6875 54.6875 \nL 56.203125 54.6875 \nL 35.6875 0 \nL 23.484375 0 \nz\n\" id=\"DejaVuSans-118\"/>\n      <path d=\"M 34.28125 27.484375 \nQ 23.390625 27.484375 19.1875 25 \nQ 14.984375 22.515625 14.984375 16.5 \nQ 14.984375 11.71875 18.140625 8.90625 \nQ 21.296875 6.109375 26.703125 6.109375 \nQ 34.1875 6.109375 38.703125 11.40625 \nQ 43.21875 16.703125 43.21875 25.484375 \nL 43.21875 27.484375 \nz\nM 52.203125 31.203125 \nL 52.203125 0 \nL 43.21875 0 \nL 43.21875 8.296875 \nQ 40.140625 3.328125 35.546875 0.953125 \nQ 30.953125 -1.421875 24.3125 -1.421875 \nQ 15.921875 -1.421875 10.953125 3.296875 \nQ 6 8.015625 6 15.921875 \nQ 6 25.140625 12.171875 29.828125 \nQ 18.359375 34.515625 30.609375 34.515625 \nL 43.21875 34.515625 \nL 43.21875 35.40625 \nQ 43.21875 41.609375 39.140625 45 \nQ 35.0625 48.390625 27.6875 48.390625 \nQ 23 48.390625 18.546875 47.265625 \nQ 14.109375 46.140625 10.015625 43.890625 \nL 10.015625 52.203125 \nQ 14.9375 54.109375 19.578125 55.046875 \nQ 24.21875 56 28.609375 56 \nQ 40.484375 56 46.34375 49.84375 \nQ 52.203125 43.703125 52.203125 31.203125 \nz\n\" id=\"DejaVuSans-97\"/>\n      <path d=\"M 9.421875 75.984375 \nL 18.40625 75.984375 \nL 18.40625 0 \nL 9.421875 0 \nz\n\" id=\"DejaVuSans-108\"/>\n      <path d=\"M 9.421875 54.6875 \nL 18.40625 54.6875 \nL 18.40625 0 \nL 9.421875 0 \nz\nM 9.421875 75.984375 \nL 18.40625 75.984375 \nL 18.40625 64.59375 \nL 9.421875 64.59375 \nz\n\" id=\"DejaVuSans-105\"/>\n      <path d=\"M 45.40625 46.390625 \nL 45.40625 75.984375 \nL 54.390625 75.984375 \nL 54.390625 0 \nL 45.40625 0 \nL 45.40625 8.203125 \nQ 42.578125 3.328125 38.25 0.953125 \nQ 33.9375 -1.421875 27.875 -1.421875 \nQ 17.96875 -1.421875 11.734375 6.484375 \nQ 5.515625 14.40625 5.515625 27.296875 \nQ 5.515625 40.1875 11.734375 48.09375 \nQ 17.96875 56 27.875 56 \nQ 33.9375 56 38.25 53.625 \nQ 42.578125 51.265625 45.40625 46.390625 \nz\nM 14.796875 27.296875 \nQ 14.796875 17.390625 18.875 11.75 \nQ 22.953125 6.109375 30.078125 6.109375 \nQ 37.203125 6.109375 41.296875 11.75 \nQ 45.40625 17.390625 45.40625 27.296875 \nQ 45.40625 37.203125 41.296875 42.84375 \nQ 37.203125 48.484375 30.078125 48.484375 \nQ 22.953125 48.484375 18.875 42.84375 \nQ 14.796875 37.203125 14.796875 27.296875 \nz\n\" id=\"DejaVuSans-100\"/>\n     </defs>\n     <g transform=\"translate(983.514062 317.520313)scale(0.1 -0.1)\">\n      <use xlink:href=\"#DejaVuSans-112\"/>\n      <use x=\"63.476562\" xlink:href=\"#DejaVuSans-114\"/>\n      <use x=\"104.589844\" xlink:href=\"#DejaVuSans-32\"/>\n      <use x=\"136.376953\" xlink:href=\"#DejaVuSans-118\"/>\n      <use x=\"195.556641\" xlink:href=\"#DejaVuSans-97\"/>\n      <use x=\"256.835938\" xlink:href=\"#DejaVuSans-108\"/>\n      <use x=\"284.619141\" xlink:href=\"#DejaVuSans-105\"/>\n      <use x=\"312.402344\" xlink:href=\"#DejaVuSans-100\"/>\n     </g>\n    </g>\n   </g>\n  </g>\n  <g id=\"axes_2\">\n   <g id=\"matplotlib.axis_3\">\n    <g id=\"ytick_7\">\n     <g id=\"line2d_34\">\n      <defs>\n       <path d=\"M 0 0 \nL 3.5 0 \n\" id=\"m173b8096ae\" style=\"stroke:#000000;stroke-width:0.8;\"/>\n      </defs>\n      <g>\n       <use style=\"stroke:#000000;stroke-width:0.8;\" x=\"1030.103125\" xlink:href=\"#m173b8096ae\" y=\"297.716669\"/>\n      </g>\n     </g>\n     <g id=\"text_17\">\n      <!-- 0.300 -->\n      <g transform=\"translate(1037.103125 301.515888)scale(0.1 -0.1)\">\n       <use xlink:href=\"#DejaVuSans-48\"/>\n       <use x=\"63.623047\" xlink:href=\"#DejaVuSans-46\"/>\n       <use x=\"95.410156\" xlink:href=\"#DejaVuSans-51\"/>\n       <use x=\"159.033203\" xlink:href=\"#DejaVuSans-48\"/>\n       <use x=\"222.65625\" xlink:href=\"#DejaVuSans-48\"/>\n      </g>\n     </g>\n    </g>\n    <g id=\"ytick_8\">\n     <g id=\"line2d_35\">\n      <g>\n       <use style=\"stroke:#000000;stroke-width:0.8;\" x=\"1030.103125\" xlink:href=\"#m173b8096ae\" y=\"260.136996\"/>\n      </g>\n     </g>\n     <g id=\"text_18\">\n      <!-- 0.305 -->\n      <g transform=\"translate(1037.103125 263.936215)scale(0.1 -0.1)\">\n       <use xlink:href=\"#DejaVuSans-48\"/>\n       <use x=\"63.623047\" xlink:href=\"#DejaVuSans-46\"/>\n       <use x=\"95.410156\" xlink:href=\"#DejaVuSans-51\"/>\n       <use x=\"159.033203\" xlink:href=\"#DejaVuSans-48\"/>\n       <use x=\"222.65625\" xlink:href=\"#DejaVuSans-53\"/>\n      </g>\n     </g>\n    </g>\n    <g id=\"ytick_9\">\n     <g id=\"line2d_36\">\n      <g>\n       <use style=\"stroke:#000000;stroke-width:0.8;\" x=\"1030.103125\" xlink:href=\"#m173b8096ae\" y=\"222.557322\"/>\n      </g>\n     </g>\n     <g id=\"text_19\">\n      <!-- 0.310 -->\n      <g transform=\"translate(1037.103125 226.356541)scale(0.1 -0.1)\">\n       <use xlink:href=\"#DejaVuSans-48\"/>\n       <use x=\"63.623047\" xlink:href=\"#DejaVuSans-46\"/>\n       <use x=\"95.410156\" xlink:href=\"#DejaVuSans-51\"/>\n       <use x=\"159.033203\" xlink:href=\"#DejaVuSans-49\"/>\n       <use x=\"222.65625\" xlink:href=\"#DejaVuSans-48\"/>\n      </g>\n     </g>\n    </g>\n    <g id=\"ytick_10\">\n     <g id=\"line2d_37\">\n      <g>\n       <use style=\"stroke:#000000;stroke-width:0.8;\" x=\"1030.103125\" xlink:href=\"#m173b8096ae\" y=\"184.977649\"/>\n      </g>\n     </g>\n     <g id=\"text_20\">\n      <!-- 0.315 -->\n      <g transform=\"translate(1037.103125 188.776867)scale(0.1 -0.1)\">\n       <use xlink:href=\"#DejaVuSans-48\"/>\n       <use x=\"63.623047\" xlink:href=\"#DejaVuSans-46\"/>\n       <use x=\"95.410156\" xlink:href=\"#DejaVuSans-51\"/>\n       <use x=\"159.033203\" xlink:href=\"#DejaVuSans-49\"/>\n       <use x=\"222.65625\" xlink:href=\"#DejaVuSans-53\"/>\n      </g>\n     </g>\n    </g>\n    <g id=\"ytick_11\">\n     <g id=\"line2d_38\">\n      <g>\n       <use style=\"stroke:#000000;stroke-width:0.8;\" x=\"1030.103125\" xlink:href=\"#m173b8096ae\" y=\"147.397975\"/>\n      </g>\n     </g>\n     <g id=\"text_21\">\n      <!-- 0.320 -->\n      <g transform=\"translate(1037.103125 151.197194)scale(0.1 -0.1)\">\n       <use xlink:href=\"#DejaVuSans-48\"/>\n       <use x=\"63.623047\" xlink:href=\"#DejaVuSans-46\"/>\n       <use x=\"95.410156\" xlink:href=\"#DejaVuSans-51\"/>\n       <use x=\"159.033203\" xlink:href=\"#DejaVuSans-50\"/>\n       <use x=\"222.65625\" xlink:href=\"#DejaVuSans-48\"/>\n      </g>\n     </g>\n    </g>\n    <g id=\"ytick_12\">\n     <g id=\"line2d_39\">\n      <g>\n       <use style=\"stroke:#000000;stroke-width:0.8;\" x=\"1030.103125\" xlink:href=\"#m173b8096ae\" y=\"109.818302\"/>\n      </g>\n     </g>\n     <g id=\"text_22\">\n      <!-- 0.325 -->\n      <g transform=\"translate(1037.103125 113.61752)scale(0.1 -0.1)\">\n       <use xlink:href=\"#DejaVuSans-48\"/>\n       <use x=\"63.623047\" xlink:href=\"#DejaVuSans-46\"/>\n       <use x=\"95.410156\" xlink:href=\"#DejaVuSans-51\"/>\n       <use x=\"159.033203\" xlink:href=\"#DejaVuSans-50\"/>\n       <use x=\"222.65625\" xlink:href=\"#DejaVuSans-53\"/>\n      </g>\n     </g>\n    </g>\n    <g id=\"ytick_13\">\n     <g id=\"line2d_40\">\n      <g>\n       <use style=\"stroke:#000000;stroke-width:0.8;\" x=\"1030.103125\" xlink:href=\"#m173b8096ae\" y=\"72.238628\"/>\n      </g>\n     </g>\n     <g id=\"text_23\">\n      <!-- 0.330 -->\n      <g transform=\"translate(1037.103125 76.037847)scale(0.1 -0.1)\">\n       <use xlink:href=\"#DejaVuSans-48\"/>\n       <use x=\"63.623047\" xlink:href=\"#DejaVuSans-46\"/>\n       <use x=\"95.410156\" xlink:href=\"#DejaVuSans-51\"/>\n       <use x=\"159.033203\" xlink:href=\"#DejaVuSans-51\"/>\n       <use x=\"222.65625\" xlink:href=\"#DejaVuSans-48\"/>\n      </g>\n     </g>\n    </g>\n    <g id=\"ytick_14\">\n     <g id=\"line2d_41\">\n      <g>\n       <use style=\"stroke:#000000;stroke-width:0.8;\" x=\"1030.103125\" xlink:href=\"#m173b8096ae\" y=\"34.658954\"/>\n      </g>\n     </g>\n     <g id=\"text_24\">\n      <!-- 0.335 -->\n      <g transform=\"translate(1037.103125 38.458173)scale(0.1 -0.1)\">\n       <use xlink:href=\"#DejaVuSans-48\"/>\n       <use x=\"63.623047\" xlink:href=\"#DejaVuSans-46\"/>\n       <use x=\"95.410156\" xlink:href=\"#DejaVuSans-51\"/>\n       <use x=\"159.033203\" xlink:href=\"#DejaVuSans-51\"/>\n       <use x=\"222.65625\" xlink:href=\"#DejaVuSans-53\"/>\n      </g>\n     </g>\n    </g>\n    <g id=\"text_25\">\n     <!-- Validation NDCG@100 -->\n     <defs>\n      <path d=\"M 28.609375 0 \nL 0.78125 72.90625 \nL 11.078125 72.90625 \nL 34.1875 11.53125 \nL 57.328125 72.90625 \nL 67.578125 72.90625 \nL 39.796875 0 \nz\n\" id=\"DejaVuSans-86\"/>\n      <path d=\"M 18.3125 70.21875 \nL 18.3125 54.6875 \nL 36.8125 54.6875 \nL 36.8125 47.703125 \nL 18.3125 47.703125 \nL 18.3125 18.015625 \nQ 18.3125 11.328125 20.140625 9.421875 \nQ 21.96875 7.515625 27.59375 7.515625 \nL 36.8125 7.515625 \nL 36.8125 0 \nL 27.59375 0 \nQ 17.1875 0 13.234375 3.875 \nQ 9.28125 7.765625 9.28125 18.015625 \nL 9.28125 47.703125 \nL 2.6875 47.703125 \nL 2.6875 54.6875 \nL 9.28125 54.6875 \nL 9.28125 70.21875 \nz\n\" id=\"DejaVuSans-116\"/>\n      <path d=\"M 30.609375 48.390625 \nQ 23.390625 48.390625 19.1875 42.75 \nQ 14.984375 37.109375 14.984375 27.296875 \nQ 14.984375 17.484375 19.15625 11.84375 \nQ 23.34375 6.203125 30.609375 6.203125 \nQ 37.796875 6.203125 41.984375 11.859375 \nQ 46.1875 17.53125 46.1875 27.296875 \nQ 46.1875 37.015625 41.984375 42.703125 \nQ 37.796875 48.390625 30.609375 48.390625 \nz\nM 30.609375 56 \nQ 42.328125 56 49.015625 48.375 \nQ 55.71875 40.765625 55.71875 27.296875 \nQ 55.71875 13.875 49.015625 6.21875 \nQ 42.328125 -1.421875 30.609375 -1.421875 \nQ 18.84375 -1.421875 12.171875 6.21875 \nQ 5.515625 13.875 5.515625 27.296875 \nQ 5.515625 40.765625 12.171875 48.375 \nQ 18.84375 56 30.609375 56 \nz\n\" id=\"DejaVuSans-111\"/>\n      <path d=\"M 54.890625 33.015625 \nL 54.890625 0 \nL 45.90625 0 \nL 45.90625 32.71875 \nQ 45.90625 40.484375 42.875 44.328125 \nQ 39.84375 48.1875 33.796875 48.1875 \nQ 26.515625 48.1875 22.3125 43.546875 \nQ 18.109375 38.921875 18.109375 30.90625 \nL 18.109375 0 \nL 9.078125 0 \nL 9.078125 54.6875 \nL 18.109375 54.6875 \nL 18.109375 46.1875 \nQ 21.34375 51.125 25.703125 53.5625 \nQ 30.078125 56 35.796875 56 \nQ 45.21875 56 50.046875 50.171875 \nQ 54.890625 44.34375 54.890625 33.015625 \nz\n\" id=\"DejaVuSans-110\"/>\n      <path d=\"M 9.8125 72.90625 \nL 23.09375 72.90625 \nL 55.421875 11.921875 \nL 55.421875 72.90625 \nL 64.984375 72.90625 \nL 64.984375 0 \nL 51.703125 0 \nL 19.390625 60.984375 \nL 19.390625 0 \nL 9.8125 0 \nz\n\" id=\"DejaVuSans-78\"/>\n      <path d=\"M 19.671875 64.796875 \nL 19.671875 8.109375 \nL 31.59375 8.109375 \nQ 46.6875 8.109375 53.6875 14.9375 \nQ 60.6875 21.78125 60.6875 36.53125 \nQ 60.6875 51.171875 53.6875 57.984375 \nQ 46.6875 64.796875 31.59375 64.796875 \nz\nM 9.8125 72.90625 \nL 30.078125 72.90625 \nQ 51.265625 72.90625 61.171875 64.09375 \nQ 71.09375 55.28125 71.09375 36.53125 \nQ 71.09375 17.671875 61.125 8.828125 \nQ 51.171875 0 30.078125 0 \nL 9.8125 0 \nz\n\" id=\"DejaVuSans-68\"/>\n      <path d=\"M 64.40625 67.28125 \nL 64.40625 56.890625 \nQ 59.421875 61.53125 53.78125 63.8125 \nQ 48.140625 66.109375 41.796875 66.109375 \nQ 29.296875 66.109375 22.65625 58.46875 \nQ 16.015625 50.828125 16.015625 36.375 \nQ 16.015625 21.96875 22.65625 14.328125 \nQ 29.296875 6.6875 41.796875 6.6875 \nQ 48.140625 6.6875 53.78125 8.984375 \nQ 59.421875 11.28125 64.40625 15.921875 \nL 64.40625 5.609375 \nQ 59.234375 2.09375 53.4375 0.328125 \nQ 47.65625 -1.421875 41.21875 -1.421875 \nQ 24.65625 -1.421875 15.125 8.703125 \nQ 5.609375 18.84375 5.609375 36.375 \nQ 5.609375 53.953125 15.125 64.078125 \nQ 24.65625 74.21875 41.21875 74.21875 \nQ 47.75 74.21875 53.53125 72.484375 \nQ 59.328125 70.75 64.40625 67.28125 \nz\n\" id=\"DejaVuSans-67\"/>\n      <path d=\"M 59.515625 10.40625 \nL 59.515625 29.984375 \nL 43.40625 29.984375 \nL 43.40625 38.09375 \nL 69.28125 38.09375 \nL 69.28125 6.78125 \nQ 63.578125 2.734375 56.6875 0.65625 \nQ 49.8125 -1.421875 42 -1.421875 \nQ 24.90625 -1.421875 15.25 8.5625 \nQ 5.609375 18.5625 5.609375 36.375 \nQ 5.609375 54.25 15.25 64.234375 \nQ 24.90625 74.21875 42 74.21875 \nQ 49.125 74.21875 55.546875 72.453125 \nQ 61.96875 70.703125 67.390625 67.28125 \nL 67.390625 56.78125 \nQ 61.921875 61.421875 55.765625 63.765625 \nQ 49.609375 66.109375 42.828125 66.109375 \nQ 29.4375 66.109375 22.71875 58.640625 \nQ 16.015625 51.171875 16.015625 36.375 \nQ 16.015625 21.625 22.71875 14.15625 \nQ 29.4375 6.6875 42.828125 6.6875 \nQ 48.046875 6.6875 52.140625 7.59375 \nQ 56.25 8.5 59.515625 10.40625 \nz\n\" id=\"DejaVuSans-71\"/>\n      <path d=\"M 37.203125 26.21875 \nQ 37.203125 19.234375 40.671875 15.25 \nQ 44.140625 11.28125 50.203125 11.28125 \nQ 56.203125 11.28125 59.640625 15.28125 \nQ 63.09375 19.28125 63.09375 26.21875 \nQ 63.09375 33.0625 59.578125 37.078125 \nQ 56.0625 41.109375 50.09375 41.109375 \nQ 44.1875 41.109375 40.6875 37.109375 \nQ 37.203125 33.109375 37.203125 26.21875 \nz\nM 63.8125 11.625 \nQ 60.890625 7.859375 57.109375 6.078125 \nQ 53.328125 4.296875 48.296875 4.296875 \nQ 39.890625 4.296875 34.640625 10.375 \nQ 29.390625 16.453125 29.390625 26.21875 \nQ 29.390625 35.984375 34.65625 42.078125 \nQ 39.9375 48.1875 48.296875 48.1875 \nQ 53.328125 48.1875 57.125 46.359375 \nQ 60.9375 44.53125 63.8125 40.828125 \nL 63.8125 47.21875 \nL 70.796875 47.21875 \nL 70.796875 11.28125 \nQ 77.9375 12.359375 81.953125 17.796875 \nQ 85.984375 23.25 85.984375 31.890625 \nQ 85.984375 37.109375 84.4375 41.703125 \nQ 82.90625 46.296875 79.78125 50.203125 \nQ 74.703125 56.59375 67.40625 59.984375 \nQ 60.109375 63.375 51.515625 63.375 \nQ 45.515625 63.375 39.984375 61.78125 \nQ 34.46875 60.203125 29.78125 57.078125 \nQ 22.125 52.09375 17.796875 44.015625 \nQ 13.484375 35.9375 13.484375 26.515625 \nQ 13.484375 18.75 16.28125 11.953125 \nQ 19.09375 5.171875 24.421875 0 \nQ 29.546875 -5.078125 36.28125 -7.734375 \nQ 43.015625 -10.40625 50.6875 -10.40625 \nQ 56.984375 -10.40625 63.0625 -8.28125 \nQ 69.140625 -6.15625 74.21875 -2.203125 \nL 78.609375 -7.625 \nQ 72.515625 -12.359375 65.3125 -14.875 \nQ 58.109375 -17.390625 50.6875 -17.390625 \nQ 41.65625 -17.390625 33.640625 -14.1875 \nQ 25.640625 -10.984375 19.390625 -4.890625 \nQ 13.140625 1.21875 9.859375 9.25 \nQ 6.59375 17.28125 6.59375 26.515625 \nQ 6.59375 35.40625 9.90625 43.453125 \nQ 13.234375 51.515625 19.390625 57.625 \nQ 25.6875 63.8125 33.9375 67.109375 \nQ 42.1875 70.40625 51.421875 70.40625 \nQ 61.765625 70.40625 70.625 66.15625 \nQ 79.5 61.921875 85.5 54.109375 \nQ 89.15625 49.3125 91.078125 43.703125 \nQ 93.015625 38.09375 93.015625 32.078125 \nQ 93.015625 19.234375 85.25 11.8125 \nQ 77.484375 4.390625 63.8125 4.109375 \nz\n\" id=\"DejaVuSans-64\"/>\n     </defs>\n     <g transform=\"translate(1077.329687 223.679688)rotate(-90)scale(0.1 -0.1)\">\n      <use xlink:href=\"#DejaVuSans-86\"/>\n      <use x=\"60.658203\" xlink:href=\"#DejaVuSans-97\"/>\n      <use x=\"121.9375\" xlink:href=\"#DejaVuSans-108\"/>\n      <use x=\"149.720703\" xlink:href=\"#DejaVuSans-105\"/>\n      <use x=\"177.503906\" xlink:href=\"#DejaVuSans-100\"/>\n      <use x=\"240.980469\" xlink:href=\"#DejaVuSans-97\"/>\n      <use x=\"302.259766\" xlink:href=\"#DejaVuSans-116\"/>\n      <use x=\"341.46875\" xlink:href=\"#DejaVuSans-105\"/>\n      <use x=\"369.251953\" xlink:href=\"#DejaVuSans-111\"/>\n      <use x=\"430.433594\" xlink:href=\"#DejaVuSans-110\"/>\n      <use x=\"493.8125\" xlink:href=\"#DejaVuSans-32\"/>\n      <use x=\"525.599609\" xlink:href=\"#DejaVuSans-78\"/>\n      <use x=\"600.404297\" xlink:href=\"#DejaVuSans-68\"/>\n      <use x=\"677.40625\" xlink:href=\"#DejaVuSans-67\"/>\n      <use x=\"747.230469\" xlink:href=\"#DejaVuSans-71\"/>\n      <use x=\"824.720703\" xlink:href=\"#DejaVuSans-64\"/>\n      <use x=\"924.720703\" xlink:href=\"#DejaVuSans-49\"/>\n      <use x=\"988.34375\" xlink:href=\"#DejaVuSans-48\"/>\n      <use x=\"1051.966797\" xlink:href=\"#DejaVuSans-48\"/>\n     </g>\n    </g>\n   </g>\n   <g id=\"line2d_42\">\n    <path clip-path=\"url(#p235b256f22)\" d=\"M 87.704261 313.990909 \nL 536.465625 208.248615 \nL 985.226989 21.809091 \n\" style=\"fill:none;stroke:#1f77b4;stroke-dasharray:1.5,2.475;stroke-dashoffset:0;stroke-width:1.5;\"/>\n    <g clip-path=\"url(#p235b256f22)\">\n     <use style=\"fill:#1f77b4;stroke:#1f77b4;\" x=\"87.704261\" xlink:href=\"#m7caa1a92db\" y=\"313.990909\"/>\n     <use style=\"fill:#1f77b4;stroke:#1f77b4;\" x=\"536.465625\" xlink:href=\"#m7caa1a92db\" y=\"208.248615\"/>\n     <use style=\"fill:#1f77b4;stroke:#1f77b4;\" x=\"985.226989\" xlink:href=\"#m7caa1a92db\" y=\"21.809091\"/>\n    </g>\n   </g>\n   <g id=\"line2d_43\">\n    <path clip-path=\"url(#p235b256f22)\" d=\"M 87.704261 313.990909 \nL 536.465625 208.248615 \nL 985.226989 21.809091 \n\" style=\"fill:none;stroke:#ff7f0e;stroke-dasharray:1.5,2.475;stroke-dashoffset:0;stroke-width:1.5;\"/>\n    <defs>\n     <path d=\"M -3 3 \nL 3 -3 \nM -3 -3 \nL 3 3 \n\" id=\"mecd24283b6\" style=\"stroke:#ff7f0e;\"/>\n    </defs>\n    <g clip-path=\"url(#p235b256f22)\">\n     <use style=\"fill:#ff7f0e;stroke:#ff7f0e;\" x=\"87.704261\" xlink:href=\"#mecd24283b6\" y=\"313.990909\"/>\n     <use style=\"fill:#ff7f0e;stroke:#ff7f0e;\" x=\"536.465625\" xlink:href=\"#mecd24283b6\" y=\"208.248615\"/>\n     <use style=\"fill:#ff7f0e;stroke:#ff7f0e;\" x=\"985.226989\" xlink:href=\"#mecd24283b6\" y=\"21.809091\"/>\n    </g>\n   </g>\n   <g id=\"patch_8\">\n    <path d=\"M 42.828125 328.6 \nL 42.828125 7.2 \n\" style=\"fill:none;stroke:#000000;stroke-linecap:square;stroke-linejoin:miter;stroke-width:0.8;\"/>\n   </g>\n   <g id=\"patch_9\">\n    <path d=\"M 1030.103125 328.6 \nL 1030.103125 7.2 \n\" style=\"fill:none;stroke:#000000;stroke-linecap:square;stroke-linejoin:miter;stroke-width:0.8;\"/>\n   </g>\n   <g id=\"patch_10\">\n    <path d=\"M 42.828125 328.6 \nL 1030.103125 328.6 \n\" style=\"fill:none;stroke:#000000;stroke-linecap:square;stroke-linejoin:miter;stroke-width:0.8;\"/>\n   </g>\n   <g id=\"patch_11\">\n    <path d=\"M 42.828125 7.2 \nL 1030.103125 7.2 \n\" style=\"fill:none;stroke:#000000;stroke-linecap:square;stroke-linejoin:miter;stroke-width:0.8;\"/>\n   </g>\n   <g id=\"legend_2\">\n    <g id=\"patch_12\">\n     <path d=\"M 49.828125 323.6 \nL 121.542188 323.6 \nQ 123.542188 323.6 123.542188 321.6 \nL 123.542188 293.24375 \nQ 123.542188 291.24375 121.542188 291.24375 \nL 49.828125 291.24375 \nQ 47.828125 291.24375 47.828125 293.24375 \nL 47.828125 321.6 \nQ 47.828125 323.6 49.828125 323.6 \nz\n\" style=\"fill:#ffffff;opacity:0.8;stroke:#cccccc;stroke-linejoin:miter;\"/>\n    </g>\n    <g id=\"line2d_44\">\n     <path d=\"M 51.828125 299.342188 \nL 71.828125 299.342188 \n\" style=\"fill:none;stroke:#1f77b4;stroke-dasharray:1.5,2.475;stroke-dashoffset:0;stroke-width:1.5;\"/>\n    </g>\n    <g id=\"line2d_45\">\n     <g>\n      <use style=\"fill:#1f77b4;stroke:#1f77b4;\" x=\"61.828125\" xlink:href=\"#m7caa1a92db\" y=\"299.342188\"/>\n     </g>\n    </g>\n    <g id=\"text_26\">\n     <!-- pr train -->\n     <g transform=\"translate(79.828125 302.842188)scale(0.1 -0.1)\">\n      <use xlink:href=\"#DejaVuSans-112\"/>\n      <use x=\"63.476562\" xlink:href=\"#DejaVuSans-114\"/>\n      <use x=\"104.589844\" xlink:href=\"#DejaVuSans-32\"/>\n      <use x=\"136.376953\" xlink:href=\"#DejaVuSans-116\"/>\n      <use x=\"175.585938\" xlink:href=\"#DejaVuSans-114\"/>\n      <use x=\"216.699219\" xlink:href=\"#DejaVuSans-97\"/>\n      <use x=\"277.978516\" xlink:href=\"#DejaVuSans-105\"/>\n      <use x=\"305.761719\" xlink:href=\"#DejaVuSans-110\"/>\n     </g>\n    </g>\n    <g id=\"line2d_46\">\n     <path d=\"M 51.828125 314.020313 \nL 71.828125 314.020313 \n\" style=\"fill:none;stroke:#ff7f0e;stroke-dasharray:1.5,2.475;stroke-dashoffset:0;stroke-width:1.5;\"/>\n    </g>\n    <g id=\"line2d_47\">\n     <g>\n      <use style=\"fill:#ff7f0e;stroke:#ff7f0e;\" x=\"61.828125\" xlink:href=\"#mecd24283b6\" y=\"314.020313\"/>\n     </g>\n    </g>\n    <g id=\"text_27\">\n     <!-- mf train -->\n     <defs>\n      <path d=\"M 52 44.1875 \nQ 55.375 50.25 60.0625 53.125 \nQ 64.75 56 71.09375 56 \nQ 79.640625 56 84.28125 50.015625 \nQ 88.921875 44.046875 88.921875 33.015625 \nL 88.921875 0 \nL 79.890625 0 \nL 79.890625 32.71875 \nQ 79.890625 40.578125 77.09375 44.375 \nQ 74.3125 48.1875 68.609375 48.1875 \nQ 61.625 48.1875 57.5625 43.546875 \nQ 53.515625 38.921875 53.515625 30.90625 \nL 53.515625 0 \nL 44.484375 0 \nL 44.484375 32.71875 \nQ 44.484375 40.625 41.703125 44.40625 \nQ 38.921875 48.1875 33.109375 48.1875 \nQ 26.21875 48.1875 22.15625 43.53125 \nQ 18.109375 38.875 18.109375 30.90625 \nL 18.109375 0 \nL 9.078125 0 \nL 9.078125 54.6875 \nL 18.109375 54.6875 \nL 18.109375 46.1875 \nQ 21.1875 51.21875 25.484375 53.609375 \nQ 29.78125 56 35.6875 56 \nQ 41.65625 56 45.828125 52.96875 \nQ 50 49.953125 52 44.1875 \nz\n\" id=\"DejaVuSans-109\"/>\n      <path d=\"M 37.109375 75.984375 \nL 37.109375 68.5 \nL 28.515625 68.5 \nQ 23.6875 68.5 21.796875 66.546875 \nQ 19.921875 64.59375 19.921875 59.515625 \nL 19.921875 54.6875 \nL 34.71875 54.6875 \nL 34.71875 47.703125 \nL 19.921875 47.703125 \nL 19.921875 0 \nL 10.890625 0 \nL 10.890625 47.703125 \nL 2.296875 47.703125 \nL 2.296875 54.6875 \nL 10.890625 54.6875 \nL 10.890625 58.5 \nQ 10.890625 67.625 15.140625 71.796875 \nQ 19.390625 75.984375 28.609375 75.984375 \nz\n\" id=\"DejaVuSans-102\"/>\n     </defs>\n     <g transform=\"translate(79.828125 317.520313)scale(0.1 -0.1)\">\n      <use xlink:href=\"#DejaVuSans-109\"/>\n      <use x=\"97.412109\" xlink:href=\"#DejaVuSans-102\"/>\n      <use x=\"132.617188\" xlink:href=\"#DejaVuSans-32\"/>\n      <use x=\"164.404297\" xlink:href=\"#DejaVuSans-116\"/>\n      <use x=\"203.613281\" xlink:href=\"#DejaVuSans-114\"/>\n      <use x=\"244.726562\" xlink:href=\"#DejaVuSans-97\"/>\n      <use x=\"306.005859\" xlink:href=\"#DejaVuSans-105\"/>\n      <use x=\"333.789062\" xlink:href=\"#DejaVuSans-110\"/>\n     </g>\n    </g>\n   </g>\n  </g>\n </g>\n <defs>\n  <clipPath id=\"p235b256f22\">\n   <rect height=\"321.4\" width=\"987.275\" x=\"42.828125\" y=\"7.2\"/>\n  </clipPath>\n </defs>\n</svg>\n",
      "image/png": "[encoded data removed]"
     },
     "metadata": {
      "needs_background": "light"
     }
    },
    {
     "output_type": "display_data",
     "data": {
      "text/plain": "HBox(children=(FloatProgress(value=0.0, max=2.0), HTML(value='')))",
      "application/vnd.jupyter.widget-view+json": {
       "version_major": 2,
       "version_minor": 0,
       "model_id": "8298a5e26b894f23a123fd8cf0c10817"
      }
     },
     "metadata": {}
    },
    {
     "output_type": "stream",
     "name": "stdout",
     "text": "\nNLL_loss 1258.3818359375 KLD_loss 5249.326416015625\n"
    },
    {
     "output_type": "display_data",
     "data": {
      "text/plain": "HBox(children=(FloatProgress(value=0.0, max=2.0), HTML(value='')))",
      "application/vnd.jupyter.widget-view+json": {
       "version_major": 2,
       "version_minor": 0,
       "model_id": "470d0c4d7bf9450791949fc9658acd18"
      }
     },
     "metadata": {}
    },
    {
     "output_type": "stream",
     "name": "stdout",
     "text": "\n"
    },
    {
     "output_type": "error",
     "ename": "KeyboardInterrupt",
     "evalue": "",
     "traceback": [
      "\u001b[0;31m---------------------------------------------------------------------------\u001b[0m",
      "\u001b[0;31mKeyboardInterrupt\u001b[0m                         Traceback (most recent call last)",
      "\u001b[0;32m<ipython-input-97-ef48c040e220>\u001b[0m in \u001b[0;36m<module>\u001b[0;34m\u001b[0m\n\u001b[1;32m      1\u001b[0m \u001b[0;32mfor\u001b[0m \u001b[0mepoch\u001b[0m \u001b[0;32min\u001b[0m \u001b[0mrange\u001b[0m\u001b[0;34m(\u001b[0m\u001b[0;36m50\u001b[0m\u001b[0;34m)\u001b[0m\u001b[0;34m:\u001b[0m\u001b[0;34m\u001b[0m\u001b[0;34m\u001b[0m\u001b[0m\n\u001b[1;32m      2\u001b[0m     run(model_i, [optimizer_encoder_i],\n\u001b[0;32m----> 3\u001b[0;31m         train_data, batch_size=500, n_epochs=3, axis='users', mode='pr', beta=0.005)\n\u001b[0m\u001b[1;32m      4\u001b[0m     \u001b[0mmodel_i\u001b[0m\u001b[0;34m.\u001b[0m\u001b[0mset_embeddings\u001b[0m\u001b[0;34m(\u001b[0m\u001b[0mtrain_data\u001b[0m\u001b[0;34m)\u001b[0m\u001b[0;34m\u001b[0m\u001b[0;34m\u001b[0m\u001b[0m\n\u001b[1;32m      5\u001b[0m     run(model_i, [optimizer_decoder_i],\n",
      "\u001b[0;32m<ipython-input-84-c4b33df5e5db>\u001b[0m in \u001b[0;36mrun\u001b[0;34m(model, opts, train_data, batch_size, n_epochs, axis, beta, mode)\u001b[0m\n\u001b[1;32m     21\u001b[0m                 \u001b[0moptimizer\u001b[0m\u001b[0;34m.\u001b[0m\u001b[0mzero_grad\u001b[0m\u001b[0;34m(\u001b[0m\u001b[0;34m)\u001b[0m\u001b[0;34m\u001b[0m\u001b[0;34m\u001b[0m\u001b[0m\n\u001b[1;32m     22\u001b[0m \u001b[0;34m\u001b[0m\u001b[0m\n\u001b[0;32m---> 23\u001b[0;31m             \u001b[0;34m(\u001b[0m\u001b[0mNLL\u001b[0m\u001b[0;34m,\u001b[0m \u001b[0mKLD\u001b[0m\u001b[0;34m)\u001b[0m\u001b[0;34m,\u001b[0m \u001b[0mloss\u001b[0m \u001b[0;34m=\u001b[0m \u001b[0mmodel\u001b[0m\u001b[0;34m(\u001b[0m\u001b[0mratings\u001b[0m\u001b[0;34m,\u001b[0m \u001b[0midx\u001b[0m\u001b[0;34m,\u001b[0m \u001b[0mbeta\u001b[0m\u001b[0;34m=\u001b[0m\u001b[0mbeta\u001b[0m\u001b[0;34m,\u001b[0m \u001b[0mmode\u001b[0m\u001b[0;34m=\u001b[0m\u001b[0mmode\u001b[0m\u001b[0;34m)\u001b[0m\u001b[0;34m\u001b[0m\u001b[0;34m\u001b[0m\u001b[0m\n\u001b[0m\u001b[1;32m     24\u001b[0m             \u001b[0mloss\u001b[0m\u001b[0;34m.\u001b[0m\u001b[0mbackward\u001b[0m\u001b[0;34m(\u001b[0m\u001b[0;34m)\u001b[0m\u001b[0;34m\u001b[0m\u001b[0;34m\u001b[0m\u001b[0m\n\u001b[1;32m     25\u001b[0m \u001b[0;34m\u001b[0m\u001b[0m\n",
      "\u001b[0;32m~/ml/RecVAE/.venv/lib/python3.7/site-packages/torch/nn/modules/module.py\u001b[0m in \u001b[0;36m__call__\u001b[0;34m(self, *input, **kwargs)\u001b[0m\n\u001b[1;32m    548\u001b[0m             \u001b[0mresult\u001b[0m \u001b[0;34m=\u001b[0m \u001b[0mself\u001b[0m\u001b[0;34m.\u001b[0m\u001b[0m_slow_forward\u001b[0m\u001b[0;34m(\u001b[0m\u001b[0;34m*\u001b[0m\u001b[0minput\u001b[0m\u001b[0;34m,\u001b[0m \u001b[0;34m**\u001b[0m\u001b[0mkwargs\u001b[0m\u001b[0;34m)\u001b[0m\u001b[0;34m\u001b[0m\u001b[0;34m\u001b[0m\u001b[0m\n\u001b[1;32m    549\u001b[0m         \u001b[0;32melse\u001b[0m\u001b[0;34m:\u001b[0m\u001b[0;34m\u001b[0m\u001b[0;34m\u001b[0m\u001b[0m\n\u001b[0;32m--> 550\u001b[0;31m             \u001b[0mresult\u001b[0m \u001b[0;34m=\u001b[0m \u001b[0mself\u001b[0m\u001b[0;34m.\u001b[0m\u001b[0mforward\u001b[0m\u001b[0;34m(\u001b[0m\u001b[0;34m*\u001b[0m\u001b[0minput\u001b[0m\u001b[0;34m,\u001b[0m \u001b[0;34m**\u001b[0m\u001b[0mkwargs\u001b[0m\u001b[0;34m)\u001b[0m\u001b[0;34m\u001b[0m\u001b[0;34m\u001b[0m\u001b[0m\n\u001b[0m\u001b[1;32m    551\u001b[0m         \u001b[0;32mfor\u001b[0m \u001b[0mhook\u001b[0m \u001b[0;32min\u001b[0m \u001b[0mself\u001b[0m\u001b[0;34m.\u001b[0m\u001b[0m_forward_hooks\u001b[0m\u001b[0;34m.\u001b[0m\u001b[0mvalues\u001b[0m\u001b[0;34m(\u001b[0m\u001b[0;34m)\u001b[0m\u001b[0;34m:\u001b[0m\u001b[0;34m\u001b[0m\u001b[0;34m\u001b[0m\u001b[0m\n\u001b[1;32m    552\u001b[0m             \u001b[0mhook_result\u001b[0m \u001b[0;34m=\u001b[0m \u001b[0mhook\u001b[0m\u001b[0;34m(\u001b[0m\u001b[0mself\u001b[0m\u001b[0;34m,\u001b[0m \u001b[0minput\u001b[0m\u001b[0;34m,\u001b[0m \u001b[0mresult\u001b[0m\u001b[0;34m)\u001b[0m\u001b[0;34m\u001b[0m\u001b[0;34m\u001b[0m\u001b[0m\n",
      "\u001b[0;32m<ipython-input-80-cd24dc82779e>\u001b[0m in \u001b[0;36mforward\u001b[0;34m(self, user_ratings, user_idx, beta, dropout_rate, calculate_loss, mode)\u001b[0m\n\u001b[1;32m     59\u001b[0m     ):\n\u001b[1;32m     60\u001b[0m         \u001b[0;32mif\u001b[0m \u001b[0mmode\u001b[0m \u001b[0;34m==\u001b[0m \u001b[0;34m'pr'\u001b[0m\u001b[0;34m:\u001b[0m\u001b[0;34m\u001b[0m\u001b[0;34m\u001b[0m\u001b[0m\n\u001b[0;32m---> 61\u001b[0;31m             \u001b[0mmu\u001b[0m\u001b[0;34m,\u001b[0m \u001b[0mlogvar\u001b[0m \u001b[0;34m=\u001b[0m \u001b[0mself\u001b[0m\u001b[0;34m.\u001b[0m\u001b[0mencode\u001b[0m\u001b[0;34m(\u001b[0m\u001b[0muser_ratings\u001b[0m\u001b[0;34m,\u001b[0m \u001b[0mdropout_rate\u001b[0m\u001b[0;34m=\u001b[0m\u001b[0mdropout_rate\u001b[0m\u001b[0;34m)\u001b[0m\u001b[0;34m\u001b[0m\u001b[0;34m\u001b[0m\u001b[0m\n\u001b[0m\u001b[1;32m     62\u001b[0m         \u001b[0;32melif\u001b[0m \u001b[0mmode\u001b[0m \u001b[0;34m==\u001b[0m \u001b[0;34m'mf'\u001b[0m\u001b[0;34m:\u001b[0m\u001b[0;34m\u001b[0m\u001b[0;34m\u001b[0m\u001b[0m\n\u001b[1;32m     63\u001b[0m             \u001b[0mmu\u001b[0m\u001b[0;34m,\u001b[0m \u001b[0mlogvar\u001b[0m \u001b[0;34m=\u001b[0m \u001b[0mself\u001b[0m\u001b[0;34m.\u001b[0m\u001b[0mencode\u001b[0m\u001b[0;34m(\u001b[0m\u001b[0muser_ratings\u001b[0m\u001b[0;34m,\u001b[0m \u001b[0mdropout_rate\u001b[0m\u001b[0;34m=\u001b[0m\u001b[0;36m0\u001b[0m\u001b[0;34m)\u001b[0m\u001b[0;34m\u001b[0m\u001b[0;34m\u001b[0m\u001b[0m\n",
      "\u001b[0;32m<ipython-input-80-cd24dc82779e>\u001b[0m in \u001b[0;36mencode\u001b[0;34m(self, x, dropout_rate)\u001b[0m\n\u001b[1;32m     25\u001b[0m         \u001b[0mx\u001b[0m \u001b[0;34m=\u001b[0m \u001b[0mx\u001b[0m \u001b[0;34m/\u001b[0m \u001b[0mnorm\u001b[0m\u001b[0;34m[\u001b[0m\u001b[0;34m:\u001b[0m\u001b[0;34m,\u001b[0m \u001b[0;32mNone\u001b[0m\u001b[0;34m]\u001b[0m\u001b[0;34m\u001b[0m\u001b[0;34m\u001b[0m\u001b[0m\n\u001b[1;32m     26\u001b[0m \u001b[0;34m\u001b[0m\u001b[0m\n\u001b[0;32m---> 27\u001b[0;31m         \u001b[0mx\u001b[0m \u001b[0;34m=\u001b[0m \u001b[0mF\u001b[0m\u001b[0;34m.\u001b[0m\u001b[0mdropout\u001b[0m\u001b[0;34m(\u001b[0m\u001b[0mx\u001b[0m\u001b[0;34m,\u001b[0m \u001b[0mp\u001b[0m\u001b[0;34m=\u001b[0m\u001b[0mdropout_rate\u001b[0m\u001b[0;34m,\u001b[0m \u001b[0mtraining\u001b[0m\u001b[0;34m=\u001b[0m\u001b[0mself\u001b[0m\u001b[0;34m.\u001b[0m\u001b[0mtraining\u001b[0m\u001b[0;34m)\u001b[0m\u001b[0;34m\u001b[0m\u001b[0;34m\u001b[0m\u001b[0m\n\u001b[0m\u001b[1;32m     28\u001b[0m \u001b[0;34m\u001b[0m\u001b[0m\n\u001b[1;32m     29\u001b[0m         \u001b[0mh1\u001b[0m \u001b[0;34m=\u001b[0m \u001b[0mself\u001b[0m\u001b[0;34m.\u001b[0m\u001b[0mln1\u001b[0m\u001b[0;34m(\u001b[0m\u001b[0mswish\u001b[0m\u001b[0;34m(\u001b[0m\u001b[0mself\u001b[0m\u001b[0;34m.\u001b[0m\u001b[0mfc1\u001b[0m\u001b[0;34m(\u001b[0m\u001b[0mx\u001b[0m\u001b[0;34m)\u001b[0m\u001b[0;34m)\u001b[0m\u001b[0;34m)\u001b[0m\u001b[0;34m\u001b[0m\u001b[0;34m\u001b[0m\u001b[0m\n",
      "\u001b[0;32m~/ml/RecVAE/.venv/lib/python3.7/site-packages/torch/nn/functional.py\u001b[0m in \u001b[0;36mdropout\u001b[0;34m(input, p, training, inplace)\u001b[0m\n\u001b[1;32m    934\u001b[0m     return (_VF.dropout_(input, p, training)\n\u001b[1;32m    935\u001b[0m             \u001b[0;32mif\u001b[0m \u001b[0minplace\u001b[0m\u001b[0;34m\u001b[0m\u001b[0;34m\u001b[0m\u001b[0m\n\u001b[0;32m--> 936\u001b[0;31m             else _VF.dropout(input, p, training))\n\u001b[0m\u001b[1;32m    937\u001b[0m \u001b[0;34m\u001b[0m\u001b[0m\n\u001b[1;32m    938\u001b[0m \u001b[0;34m\u001b[0m\u001b[0m\n",
      "\u001b[0;31mKeyboardInterrupt\u001b[0m: "
     ]
    }
   ],
   "source": [
    "for epoch in range(50):\n",
    "    run(model_i, [optimizer_encoder_i],\n",
    "        train_data, batch_size=500, n_epochs=3, axis='users', mode='pr', beta=0.005)\n",
    "    model_i.set_embeddings(train_data)\n",
    "    run(model_i, [optimizer_decoder_i],\n",
    "        train_data, batch_size=500, n_epochs=1, axis='users', mode='mf', beta=None)\n",
    "    \n",
    "    model = model_i\n",
    "    axis = 'users'\n",
    "    ndcg_ = validate(model, train_data, train_data, axis, 'mf', 0.01)\n",
    "    ndcgs_tr_mf.append(ndcg_)\n",
    "    ndcg_ = validate(model, train_data, train_data, axis, 'pr', 0.01)\n",
    "    ndcgs_tr_pr.append(ndcg_)\n",
    "    ndcg_ = validate(model, valid_1_data, valid_2_data, axis, 'pr', 1)\n",
    "    ndcgs_va_pr.append(ndcg_)\n",
    "\n",
    "    \n",
    "    clear_output(True)\n",
    "    \n",
    "    i_min = np.array(ndcgs_va_pr).argsort()[-len(ndcgs_va_pr)//2:].min()\n",
    "\n",
    "    print('ndcg', ndcgs_va_pr[-1], ': : :', best_ndcg)\n",
    "    fig, ax1 = plt.subplots()\n",
    "    fig.set_size_inches(15,5)\n",
    "\n",
    "    ax1.plot(range(i_min, len(ndcgs_va_pr)), ndcgs_va_pr[i_min:], '+-', label='pr valid')\n",
    "    ax1.legend(loc='lower right')\n",
    "    ax1.grid(True)\n",
    "\n",
    "    ax2 = ax1.twinx()\n",
    "    ax2.plot(range(i_min, len(ndcgs_va_pr)), ndcgs_tr_pr[i_min:], '+:', label='pr train')\n",
    "    ax2.plot(range(i_min, len(ndcgs_va_pr)), ndcgs_tr_mf[i_min:], 'x:', label='mf train')\n",
    "    ax2.legend(loc='lower left')\n",
    "\n",
    "    fig.tight_layout()\n",
    "    plt.ylabel(\"Validation NDCG@100\")\n",
    "    plt.xlabel(\"Epochs\")\n",
    "    plt.show()\n",
    "\n",
    "    if ndcg_ > best_ndcg:\n",
    "        best_ndcg = ndcg_\n",
    "        torch.save(model.state_dict(), ser_model_fn)\n",
    "        \n",
    "    if ndcg_ < best_ndcg / 2 and epoch > 10:\n",
    "        break"
   ]
  },
  {
   "cell_type": "code",
   "execution_count": null,
   "metadata": {},
   "outputs": [],
   "source": []
  }
 ],
 "metadata": {
  "language_info": {
   "codemirror_mode": {
    "name": "ipython",
    "version": 3
   },
   "file_extension": ".py",
   "mimetype": "text/x-python",
   "name": "python",
   "nbconvert_exporter": "python",
   "pygments_lexer": "ipython3",
   "version": "3.7.6-final"
  },
  "orig_nbformat": 2,
  "kernelspec": {
   "name": "python37664bitvenvvirtualenvec8cb82ba2ad4e4cb51e3df6fa660abe",
   "display_name": "Python 3.7.6 64-bit ('.venv': virtualenv)"
  }
 },
 "nbformat": 4,
 "nbformat_minor": 2
}